{
 "cells": [
  {
   "cell_type": "markdown",
   "id": "834e21c0-3324-4c9c-8ce1-334b8e2e2751",
   "metadata": {},
   "source": [
    "# Regression analysis"
   ]
  },
  {
   "cell_type": "markdown",
   "id": "cab52dc6-0357-4a61-a0b4-f8403214b7fd",
   "metadata": {},
   "source": [
    "## 1. Import packages"
   ]
  },
  {
   "cell_type": "code",
   "execution_count": 1,
   "id": "5e04ffec-5853-4ab5-8fa8-93f87aefa84b",
   "metadata": {},
   "outputs": [],
   "source": [
    "import pandas as pd\n",
    "\n",
    "import statsmodels.api as sm\n",
    "from statsmodels.miscmodels.ordinal_model import OrderedModel"
   ]
  },
  {
   "cell_type": "markdown",
   "id": "3edf0d9a-d79a-4835-a721-b3f0759bf6a3",
   "metadata": {},
   "source": [
    "## 2. Load the data"
   ]
  },
  {
   "cell_type": "code",
   "execution_count": 2,
   "id": "c607fb62-3f7d-4db2-bb37-87a766628724",
   "metadata": {},
   "outputs": [],
   "source": [
    "data = pd.read_csv(\"../../data/reg_data_cz.csv\")"
   ]
  },
  {
   "cell_type": "code",
   "execution_count": 3,
   "id": "ad0d1bf2-386d-4aa4-922d-a90c48fc7178",
   "metadata": {},
   "outputs": [],
   "source": [
    "data[\"delta_r_cat\"] = pd.Categorical(data[\"delta_r_cat\"], ordered=True)"
   ]
  },
  {
   "cell_type": "code",
   "execution_count": 4,
   "id": "a4fac056-1158-4517-a65e-139a5665ffd2",
   "metadata": {},
   "outputs": [],
   "source": [
    "correlation = data[['hawk_pref_score', 'delta_r']].corr()"
   ]
  },
  {
   "cell_type": "code",
   "execution_count": 5,
   "id": "9625dd8f-3b77-4ffd-90dc-6f82c14552c2",
   "metadata": {},
   "outputs": [
    {
     "data": {
      "text/html": [
       "<div>\n",
       "<style scoped>\n",
       "    .dataframe tbody tr th:only-of-type {\n",
       "        vertical-align: middle;\n",
       "    }\n",
       "\n",
       "    .dataframe tbody tr th {\n",
       "        vertical-align: top;\n",
       "    }\n",
       "\n",
       "    .dataframe thead th {\n",
       "        text-align: right;\n",
       "    }\n",
       "</style>\n",
       "<table border=\"1\" class=\"dataframe\">\n",
       "  <thead>\n",
       "    <tr style=\"text-align: right;\">\n",
       "      <th></th>\n",
       "      <th>hawk_pref_score</th>\n",
       "      <th>delta_r</th>\n",
       "    </tr>\n",
       "  </thead>\n",
       "  <tbody>\n",
       "    <tr>\n",
       "      <th>hawk_pref_score</th>\n",
       "      <td>1.000000</td>\n",
       "      <td>0.533152</td>\n",
       "    </tr>\n",
       "    <tr>\n",
       "      <th>delta_r</th>\n",
       "      <td>0.533152</td>\n",
       "      <td>1.000000</td>\n",
       "    </tr>\n",
       "  </tbody>\n",
       "</table>\n",
       "</div>"
      ],
      "text/plain": [
       "                 hawk_pref_score   delta_r\n",
       "hawk_pref_score         1.000000  0.533152\n",
       "delta_r                 0.533152  1.000000"
      ]
     },
     "execution_count": 5,
     "metadata": {},
     "output_type": "execute_result"
    }
   ],
   "source": [
    "correlation"
   ]
  },
  {
   "cell_type": "code",
   "execution_count": 6,
   "id": "01c79639-afac-4b60-96be-cdebb317d75d",
   "metadata": {},
   "outputs": [
    {
     "data": {
      "text/html": [
       "<div>\n",
       "<style scoped>\n",
       "    .dataframe tbody tr th:only-of-type {\n",
       "        vertical-align: middle;\n",
       "    }\n",
       "\n",
       "    .dataframe tbody tr th {\n",
       "        vertical-align: top;\n",
       "    }\n",
       "\n",
       "    .dataframe thead th {\n",
       "        text-align: right;\n",
       "    }\n",
       "</style>\n",
       "<table border=\"1\" class=\"dataframe\">\n",
       "  <thead>\n",
       "    <tr style=\"text-align: right;\">\n",
       "      <th></th>\n",
       "      <th>date</th>\n",
       "      <th>sentiment</th>\n",
       "      <th>hawk_pref_score</th>\n",
       "      <th>disagreement</th>\n",
       "      <th>r</th>\n",
       "      <th>delta_r</th>\n",
       "      <th>delta_r_cat</th>\n",
       "      <th>hicp</th>\n",
       "    </tr>\n",
       "  </thead>\n",
       "  <tbody>\n",
       "    <tr>\n",
       "      <th>0</th>\n",
       "      <td>1998-01-22</td>\n",
       "      <td>neutral</td>\n",
       "      <td>-0.661030</td>\n",
       "      <td>0.000000</td>\n",
       "      <td>0.00</td>\n",
       "      <td>0.00</td>\n",
       "      <td>0</td>\n",
       "      <td>12.1</td>\n",
       "    </tr>\n",
       "    <tr>\n",
       "      <th>1</th>\n",
       "      <td>1998-02-19</td>\n",
       "      <td>neutral</td>\n",
       "      <td>0.540458</td>\n",
       "      <td>0.000000</td>\n",
       "      <td>0.00</td>\n",
       "      <td>0.00</td>\n",
       "      <td>0</td>\n",
       "      <td>12.4</td>\n",
       "    </tr>\n",
       "    <tr>\n",
       "      <th>2</th>\n",
       "      <td>1998-03-19</td>\n",
       "      <td>neutral</td>\n",
       "      <td>1.018434</td>\n",
       "      <td>0.075000</td>\n",
       "      <td>15.00</td>\n",
       "      <td>0.00</td>\n",
       "      <td>0</td>\n",
       "      <td>12.4</td>\n",
       "    </tr>\n",
       "    <tr>\n",
       "      <th>3</th>\n",
       "      <td>1998-04-30</td>\n",
       "      <td>hawkish</td>\n",
       "      <td>0.194856</td>\n",
       "      <td>0.000000</td>\n",
       "      <td>0.00</td>\n",
       "      <td>0.00</td>\n",
       "      <td>0</td>\n",
       "      <td>12.0</td>\n",
       "    </tr>\n",
       "    <tr>\n",
       "      <th>4</th>\n",
       "      <td>1998-05-28</td>\n",
       "      <td>neutral</td>\n",
       "      <td>0.082861</td>\n",
       "      <td>0.000000</td>\n",
       "      <td>0.00</td>\n",
       "      <td>0.00</td>\n",
       "      <td>0</td>\n",
       "      <td>12.0</td>\n",
       "    </tr>\n",
       "    <tr>\n",
       "      <th>...</th>\n",
       "      <td>...</td>\n",
       "      <td>...</td>\n",
       "      <td>...</td>\n",
       "      <td>...</td>\n",
       "      <td>...</td>\n",
       "      <td>...</td>\n",
       "      <td>...</td>\n",
       "      <td>...</td>\n",
       "    </tr>\n",
       "    <tr>\n",
       "      <th>260</th>\n",
       "      <td>2024-03-20</td>\n",
       "      <td>neutral</td>\n",
       "      <td>-0.639292</td>\n",
       "      <td>0.014881</td>\n",
       "      <td>5.75</td>\n",
       "      <td>-0.50</td>\n",
       "      <td>-1</td>\n",
       "      <td>2.2</td>\n",
       "    </tr>\n",
       "    <tr>\n",
       "      <th>261</th>\n",
       "      <td>2024-05-02</td>\n",
       "      <td>neutral</td>\n",
       "      <td>0.767536</td>\n",
       "      <td>0.000000</td>\n",
       "      <td>5.25</td>\n",
       "      <td>-0.50</td>\n",
       "      <td>-1</td>\n",
       "      <td>3.1</td>\n",
       "    </tr>\n",
       "    <tr>\n",
       "      <th>262</th>\n",
       "      <td>2024-06-27</td>\n",
       "      <td>dovish</td>\n",
       "      <td>-0.091087</td>\n",
       "      <td>0.014881</td>\n",
       "      <td>4.75</td>\n",
       "      <td>-0.50</td>\n",
       "      <td>-1</td>\n",
       "      <td>2.2</td>\n",
       "    </tr>\n",
       "    <tr>\n",
       "      <th>263</th>\n",
       "      <td>2024-08-01</td>\n",
       "      <td>dovish</td>\n",
       "      <td>0.399827</td>\n",
       "      <td>0.000000</td>\n",
       "      <td>4.50</td>\n",
       "      <td>-0.25</td>\n",
       "      <td>-1</td>\n",
       "      <td>2.5</td>\n",
       "    </tr>\n",
       "    <tr>\n",
       "      <th>264</th>\n",
       "      <td>2024-09-25</td>\n",
       "      <td>dovish</td>\n",
       "      <td>-0.841094</td>\n",
       "      <td>0.000000</td>\n",
       "      <td>4.25</td>\n",
       "      <td>-0.25</td>\n",
       "      <td>-1</td>\n",
       "      <td>2.8</td>\n",
       "    </tr>\n",
       "  </tbody>\n",
       "</table>\n",
       "<p>265 rows × 8 columns</p>\n",
       "</div>"
      ],
      "text/plain": [
       "           date sentiment  hawk_pref_score  disagreement      r  delta_r  \\\n",
       "0    1998-01-22   neutral        -0.661030      0.000000   0.00     0.00   \n",
       "1    1998-02-19   neutral         0.540458      0.000000   0.00     0.00   \n",
       "2    1998-03-19   neutral         1.018434      0.075000  15.00     0.00   \n",
       "3    1998-04-30   hawkish         0.194856      0.000000   0.00     0.00   \n",
       "4    1998-05-28   neutral         0.082861      0.000000   0.00     0.00   \n",
       "..          ...       ...              ...           ...    ...      ...   \n",
       "260  2024-03-20   neutral        -0.639292      0.014881   5.75    -0.50   \n",
       "261  2024-05-02   neutral         0.767536      0.000000   5.25    -0.50   \n",
       "262  2024-06-27    dovish        -0.091087      0.014881   4.75    -0.50   \n",
       "263  2024-08-01    dovish         0.399827      0.000000   4.50    -0.25   \n",
       "264  2024-09-25    dovish        -0.841094      0.000000   4.25    -0.25   \n",
       "\n",
       "    delta_r_cat  hicp  \n",
       "0             0  12.1  \n",
       "1             0  12.4  \n",
       "2             0  12.4  \n",
       "3             0  12.0  \n",
       "4             0  12.0  \n",
       "..          ...   ...  \n",
       "260          -1   2.2  \n",
       "261          -1   3.1  \n",
       "262          -1   2.2  \n",
       "263          -1   2.5  \n",
       "264          -1   2.8  \n",
       "\n",
       "[265 rows x 8 columns]"
      ]
     },
     "execution_count": 6,
     "metadata": {},
     "output_type": "execute_result"
    }
   ],
   "source": [
    "data"
   ]
  },
  {
   "cell_type": "markdown",
   "id": "e2e546f4-4c92-4f10-8191-ffb4c58d344c",
   "metadata": {},
   "source": [
    "## 3. Estimate the models"
   ]
  },
  {
   "cell_type": "markdown",
   "id": "4503b7d0-b3db-4cd6-b87d-6f3aae284167",
   "metadata": {},
   "source": [
    "### Model 1"
   ]
  },
  {
   "cell_type": "markdown",
   "id": "f25ca885-c2ad-4025-b7a0-d036e5bd75e3",
   "metadata": {},
   "source": [
    "Model 1 is specified as:\n",
    "$$\n",
    "\\Delta r_{t+1} = \\beta_{0} + \\beta_{1} \\Delta r_{t} + \\beta_{2} S_{t} + \\epsilon_{t}\n",
    "$$\n",
    "\n",
    "- $\\Delta r_{t+1}$: Policy rate change at $t+1$\n",
    "- $\\Delta r_{t}$: Policy rate change at $t$\n",
    "- $S_{t}$: Sentiment index at $t$\n",
    "- $\\epsilon_{t}$: Error term."
   ]
  },
  {
   "cell_type": "markdown",
   "id": "549e0a27-3811-47d8-bde7-45a0eb2beb7b",
   "metadata": {},
   "source": [
    "#### OLS"
   ]
  },
  {
   "cell_type": "code",
   "execution_count": 7,
   "id": "c4a34ee8-8014-457c-8698-b67529fe273b",
   "metadata": {},
   "outputs": [],
   "source": [
    "y = data[\"delta_r\"][1:].reset_index(drop=True)"
   ]
  },
  {
   "cell_type": "code",
   "execution_count": 8,
   "id": "34e9de44-7890-4726-acac-10df2347d473",
   "metadata": {},
   "outputs": [],
   "source": [
    "X = pd.DataFrame({\n",
    "    \"delta_r\": data[\"delta_r\"][:-1],\n",
    "    \"sentiment\": data[\"hawk_pref_score\"][:-1],\n",
    "})"
   ]
  },
  {
   "cell_type": "code",
   "execution_count": 9,
   "id": "ccaf9205-1439-413c-831c-dfc8dc8ac49f",
   "metadata": {},
   "outputs": [],
   "source": [
    "X = sm.add_constant(X)"
   ]
  },
  {
   "cell_type": "code",
   "execution_count": 10,
   "id": "9a06214c-343b-43a3-adb9-9b35770131d6",
   "metadata": {},
   "outputs": [],
   "source": [
    "model = sm.OLS(y,X)"
   ]
  },
  {
   "cell_type": "code",
   "execution_count": 11,
   "id": "46f64866-12a7-4f43-ac1a-7e9b32570b79",
   "metadata": {},
   "outputs": [],
   "source": [
    "results = model.fit()"
   ]
  },
  {
   "cell_type": "code",
   "execution_count": 12,
   "id": "9b1c1ef9-017a-4736-81f4-ca378bedb950",
   "metadata": {},
   "outputs": [
    {
     "name": "stdout",
     "output_type": "stream",
     "text": [
      "                            OLS Regression Results                            \n",
      "==============================================================================\n",
      "Dep. Variable:                delta_r   R-squared:                       0.411\n",
      "Model:                            OLS   Adj. R-squared:                  0.406\n",
      "Method:                 Least Squares   F-statistic:                     90.94\n",
      "Date:                Mon, 21 Oct 2024   Prob (F-statistic):           1.08e-30\n",
      "Time:                        11:21:42   Log-Likelihood:                 32.787\n",
      "No. Observations:                 264   AIC:                            -59.57\n",
      "Df Residuals:                     261   BIC:                            -48.85\n",
      "Df Model:                           2                                         \n",
      "Covariance Type:            nonrobust                                         \n",
      "==============================================================================\n",
      "                 coef    std err          t      P>|t|      [0.025      0.975]\n",
      "------------------------------------------------------------------------------\n",
      "const         -0.0252      0.014     -1.841      0.067      -0.052       0.002\n",
      "delta_r        0.5444      0.056      9.692      0.000       0.434       0.655\n",
      "sentiment      0.0473      0.017      2.786      0.006       0.014       0.081\n",
      "==============================================================================\n",
      "Omnibus:                       50.037   Durbin-Watson:                   2.468\n",
      "Prob(Omnibus):                  0.000   Jarque-Bera (JB):              427.796\n",
      "Skew:                           0.400   Prob(JB):                     1.27e-93\n",
      "Kurtosis:                       9.185   Cond. No.                         4.41\n",
      "==============================================================================\n",
      "\n",
      "Notes:\n",
      "[1] Standard Errors assume that the covariance matrix of the errors is correctly specified.\n"
     ]
    }
   ],
   "source": [
    "print(results.summary())"
   ]
  },
  {
   "cell_type": "markdown",
   "id": "6345eff7-bbd6-48bd-993d-8ca573961841",
   "metadata": {},
   "source": [
    "### Ordered probit regression"
   ]
  },
  {
   "cell_type": "code",
   "execution_count": 13,
   "id": "650e7352-0bc1-49d2-986b-cb342fd0e5d7",
   "metadata": {},
   "outputs": [],
   "source": [
    "y = data[\"delta_r_cat\"].cat.codes[1:].reset_index(drop=True)"
   ]
  },
  {
   "cell_type": "code",
   "execution_count": 14,
   "id": "2ccb9c25-f4f5-4457-be87-f9e2ff4bedf0",
   "metadata": {},
   "outputs": [],
   "source": [
    "X = pd.DataFrame({\n",
    "    \"delta_r_cat\": data[\"delta_r_cat\"].cat.codes[:-1],\n",
    "    \"sentiment_index\": data[\"hawk_pref_score\"][:-1],\n",
    "})"
   ]
  },
  {
   "cell_type": "code",
   "execution_count": 15,
   "id": "8d41a933-3977-4d64-abe8-7c5ad036b240",
   "metadata": {},
   "outputs": [],
   "source": [
    "ordered_probit = OrderedModel(y, X, distr='probit')"
   ]
  },
  {
   "cell_type": "code",
   "execution_count": 16,
   "id": "0eb683b5-3ca6-423a-a7d8-2d8981eed4e8",
   "metadata": {},
   "outputs": [
    {
     "name": "stdout",
     "output_type": "stream",
     "text": [
      "Optimization terminated successfully.\n",
      "         Current function value: 0.671307\n",
      "         Iterations: 197\n",
      "         Function evaluations: 346\n"
     ]
    }
   ],
   "source": [
    "results = ordered_probit.fit()"
   ]
  },
  {
   "cell_type": "code",
   "execution_count": 17,
   "id": "e9927833-4cd1-4b1c-b025-1d48dfca0a16",
   "metadata": {},
   "outputs": [
    {
     "name": "stdout",
     "output_type": "stream",
     "text": [
      "                             OrderedModel Results                             \n",
      "==============================================================================\n",
      "Dep. Variable:                      y   Log-Likelihood:                -177.22\n",
      "Model:                   OrderedModel   AIC:                             362.4\n",
      "Method:            Maximum Likelihood   BIC:                             376.8\n",
      "Date:                Mon, 21 Oct 2024                                         \n",
      "Time:                        11:21:42                                         \n",
      "No. Observations:                 264                                         \n",
      "Df Residuals:                     260                                         \n",
      "Df Model:                           2                                         \n",
      "===================================================================================\n",
      "                      coef    std err          z      P>|z|      [0.025      0.975]\n",
      "-----------------------------------------------------------------------------------\n",
      "delta_r_cat         0.6970      0.178      3.919      0.000       0.348       1.046\n",
      "sentiment_index     0.4789      0.110      4.362      0.000       0.264       0.694\n",
      "0/1                -0.3690      0.174     -2.117      0.034      -0.711      -0.027\n",
      "1/2                 0.9499      0.066     14.389      0.000       0.821       1.079\n",
      "===================================================================================\n"
     ]
    }
   ],
   "source": [
    "print(results.summary())"
   ]
  },
  {
   "cell_type": "markdown",
   "id": "de6ec93d-6ade-49fd-b713-8000661446c5",
   "metadata": {},
   "source": [
    "### Model 2"
   ]
  },
  {
   "cell_type": "markdown",
   "id": "8b08ee20-c459-42df-b3fe-224d52417108",
   "metadata": {},
   "source": [
    "Model 1 is specified as:\n",
    "$$\n",
    "\\Delta r_{t+1} = \\beta_{0} + \\beta_{1} \\Delta r_{t} + \\beta_{2} I(S_{t} = hawk) + \\beta_{3} I(S_{t} = dov) + \\epsilon_{t}\n",
    "$$\n",
    "\n",
    "- $\\Delta r_{t+1}$: Policy rate change at $t+1$\n",
    "- $\\Delta r_{t}$: Policy rate change at $t$\n",
    "- $I(S_{t} = hawk)$: Indicator variable of sentiment being hawkish at $t$\n",
    "- $I(S_{t} = dov)$: Indicator variable of sentiment being dovish at $t$\n",
    "- $\\epsilon_{t}$: Error term."
   ]
  },
  {
   "cell_type": "code",
   "execution_count": 18,
   "id": "a6022ca1-5b88-4eb4-a680-ed7465f695f9",
   "metadata": {},
   "outputs": [],
   "source": [
    "data['hawkish'] = (data['sentiment'] == 'hawkish').astype(int)\n",
    "data['dovish'] = (data['sentiment'] == 'dovish').astype(int)"
   ]
  },
  {
   "cell_type": "code",
   "execution_count": 19,
   "id": "e3c0a95f-ee06-44a9-ae10-e6fb45442a86",
   "metadata": {},
   "outputs": [],
   "source": [
    "y = data[\"delta_r\"][1:].reset_index(drop=True)"
   ]
  },
  {
   "cell_type": "code",
   "execution_count": 20,
   "id": "b310cff1-9ad8-4c0f-a720-536d95f87311",
   "metadata": {},
   "outputs": [],
   "source": [
    "X = pd.DataFrame({\n",
    "    \"delta_r\": data[\"delta_r\"][:-1],\n",
    "    \"I_hawkish\": data[\"hawkish\"][:-1],\n",
    "    \"I_dovish\": data[\"dovish\"][:-1]\n",
    "})"
   ]
  },
  {
   "cell_type": "code",
   "execution_count": 21,
   "id": "2eb5424b-412d-46ff-ab9a-003356123c5b",
   "metadata": {},
   "outputs": [],
   "source": [
    "X = sm.add_constant(X)"
   ]
  },
  {
   "cell_type": "code",
   "execution_count": 22,
   "id": "550018bc-e1c5-4ee4-9e43-b2108cffef70",
   "metadata": {},
   "outputs": [],
   "source": [
    "model = sm.OLS(y,X)"
   ]
  },
  {
   "cell_type": "code",
   "execution_count": 23,
   "id": "f78cfffb-d7fd-4e9c-9334-3178023a79b8",
   "metadata": {},
   "outputs": [],
   "source": [
    "results = model.fit()"
   ]
  },
  {
   "cell_type": "code",
   "execution_count": 24,
   "id": "e6f68803-36c4-4672-86b3-a4ec583c76ce",
   "metadata": {},
   "outputs": [
    {
     "name": "stdout",
     "output_type": "stream",
     "text": [
      "                            OLS Regression Results                            \n",
      "==============================================================================\n",
      "Dep. Variable:                delta_r   R-squared:                       0.401\n",
      "Model:                            OLS   Adj. R-squared:                  0.395\n",
      "Method:                 Least Squares   F-statistic:                     58.14\n",
      "Date:                Mon, 21 Oct 2024   Prob (F-statistic):           8.59e-29\n",
      "Time:                        11:21:42   Log-Likelihood:                 30.748\n",
      "No. Observations:                 264   AIC:                            -53.50\n",
      "Df Residuals:                     260   BIC:                            -39.19\n",
      "Df Model:                           3                                         \n",
      "Covariance Type:            nonrobust                                         \n",
      "==============================================================================\n",
      "                 coef    std err          t      P>|t|      [0.025      0.975]\n",
      "------------------------------------------------------------------------------\n",
      "const         -0.0352      0.017     -2.117      0.035      -0.068      -0.002\n",
      "delta_r        0.6291      0.053     11.909      0.000       0.525       0.733\n",
      "I_hawkish      0.0489      0.040      1.236      0.218      -0.029       0.127\n",
      "I_dovish       0.0575      0.036      1.577      0.116      -0.014       0.129\n",
      "==============================================================================\n",
      "Omnibus:                       42.396   Durbin-Watson:                   2.471\n",
      "Prob(Omnibus):                  0.000   Jarque-Bera (JB):              369.657\n",
      "Skew:                           0.168   Prob(JB):                     5.37e-81\n",
      "Kurtosis:                       8.787   Cond. No.                         4.34\n",
      "==============================================================================\n",
      "\n",
      "Notes:\n",
      "[1] Standard Errors assume that the covariance matrix of the errors is correctly specified.\n"
     ]
    }
   ],
   "source": [
    "print(results.summary())"
   ]
  },
  {
   "cell_type": "markdown",
   "id": "99a48c90-3da1-4461-b273-a7f23469c4a5",
   "metadata": {},
   "source": [
    "#### Ordered logistic regression"
   ]
  },
  {
   "cell_type": "code",
   "execution_count": 25,
   "id": "4b06ff97-097a-44af-9539-544a3927269b",
   "metadata": {},
   "outputs": [],
   "source": [
    "y = data[\"delta_r_cat\"].cat.codes[1:].reset_index(drop=True)"
   ]
  },
  {
   "cell_type": "code",
   "execution_count": 26,
   "id": "acdf1602-a25c-456a-bed9-934900305681",
   "metadata": {},
   "outputs": [],
   "source": [
    "X = pd.DataFrame({\n",
    "    \"delta_r_cat\": data[\"delta_r_cat\"].cat.codes[:-1],\n",
    "    \"I_hawkish\": data[\"hawkish\"][:-1],\n",
    "    \"I_dovish\": data[\"dovish\"][:-1],\n",
    "})"
   ]
  },
  {
   "cell_type": "code",
   "execution_count": 27,
   "id": "a051385b-e3a9-4719-8010-98354893fc82",
   "metadata": {},
   "outputs": [],
   "source": [
    "ordered_probit = OrderedModel(y, X, distr='probit')"
   ]
  },
  {
   "cell_type": "code",
   "execution_count": 28,
   "id": "c7e9b15e-4eba-4504-aa4f-d976317d49eb",
   "metadata": {},
   "outputs": [
    {
     "name": "stdout",
     "output_type": "stream",
     "text": [
      "Optimization terminated successfully.\n",
      "         Current function value: 0.695901\n",
      "         Iterations: 424\n",
      "         Function evaluations: 671\n"
     ]
    }
   ],
   "source": [
    "results = ordered_probit.fit()"
   ]
  },
  {
   "cell_type": "code",
   "execution_count": 29,
   "id": "32c77fb1-4328-4706-85a8-145614f9cc64",
   "metadata": {},
   "outputs": [
    {
     "name": "stdout",
     "output_type": "stream",
     "text": [
      "                             OrderedModel Results                             \n",
      "==============================================================================\n",
      "Dep. Variable:                      y   Log-Likelihood:                -183.72\n",
      "Model:                   OrderedModel   AIC:                             377.4\n",
      "Method:            Maximum Likelihood   BIC:                             395.3\n",
      "Date:                Mon, 21 Oct 2024                                         \n",
      "Time:                        11:21:43                                         \n",
      "No. Observations:                 264                                         \n",
      "Df Residuals:                     259                                         \n",
      "Df Model:                           3                                         \n",
      "===============================================================================\n",
      "                  coef    std err          z      P>|z|      [0.025      0.975]\n",
      "-------------------------------------------------------------------------------\n",
      "delta_r_cat     0.9473      0.169      5.597      0.000       0.616       1.279\n",
      "I_hawkish       0.6051      0.237      2.553      0.011       0.141       1.070\n",
      "I_dovish       -0.0715      0.214     -0.334      0.738      -0.491       0.348\n",
      "0/1            -0.0564      0.174     -0.324      0.746      -0.398       0.285\n",
      "1/2             0.9048      0.064     14.091      0.000       0.779       1.031\n",
      "===============================================================================\n"
     ]
    }
   ],
   "source": [
    "print(results.summary())"
   ]
  },
  {
   "cell_type": "markdown",
   "id": "0bbbafb8-762f-41d0-b07b-dc08f9617d44",
   "metadata": {},
   "source": [
    "### Model 2"
   ]
  },
  {
   "cell_type": "markdown",
   "id": "86c476cc-7633-42ff-af1b-0862e17c1245",
   "metadata": {},
   "source": [
    "Model 2 is specified as:\n",
    "$$\n",
    "\\Delta r_{t+1} = \\beta_{0} + \\beta_{1} \\Delta r_{t} + \\beta_{2} S_{t} + \\beta_{3} Disag_{t} +\\epsilon_{t}\n",
    "$$\n",
    "\n",
    "- $\\Delta r_{t+1}$: Policy rate change at $t+1$.\n",
    "- $\\Delta r_{t}$: Policy rate change at $t$.\n",
    "- $S_{t}$: Sentiment at $t$.\n",
    "- $Disag_{t}$: Level of disagreement about policy rate change at $t$.\n",
    "- $\\epsilon_{t}$: Error term."
   ]
  },
  {
   "cell_type": "markdown",
   "id": "c18a3fe7-11a6-4adf-b01b-b68161f6cb29",
   "metadata": {},
   "source": [
    "### Model 3"
   ]
  },
  {
   "cell_type": "markdown",
   "id": "4f007717-751c-4197-847f-ef625bccee80",
   "metadata": {},
   "source": [
    "Model 3 is specified as:\n",
    "$$\n",
    "\\Delta r_{t+1} = \\beta_{0} + \\beta_{1} \\Delta r_{t} + \\beta_{2} S_{t} + \\beta_{3} (\\pi_{t} - \\pi^*) +\\epsilon_{t}\n",
    "$$\n",
    "\n",
    "- $\\Delta r_{t+1}$: Policy rate change at $t+1$.\n",
    "- $\\Delta r_{t}$: Policy rate change at $t$.\n",
    "- $S_{t}$: Sentiment at $t$.\n",
    "- $Disag_{t}$: Level of disagreement about policy rate change at $t$.\n",
    "- $\\epsilon_{t}$: Error term."
   ]
  }
 ],
 "metadata": {
  "kernelspec": {
   "display_name": "Python 3 (ipykernel)",
   "language": "python",
   "name": "python3"
  },
  "language_info": {
   "codemirror_mode": {
    "name": "ipython",
    "version": 3
   },
   "file_extension": ".py",
   "mimetype": "text/x-python",
   "name": "python",
   "nbconvert_exporter": "python",
   "pygments_lexer": "ipython3",
   "version": "3.11.5"
  }
 },
 "nbformat": 4,
 "nbformat_minor": 5
}
