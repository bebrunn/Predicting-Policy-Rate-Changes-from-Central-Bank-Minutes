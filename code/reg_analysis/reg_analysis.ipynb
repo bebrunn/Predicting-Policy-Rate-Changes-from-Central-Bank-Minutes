{
 "cells": [
  {
   "cell_type": "markdown",
   "id": "834e21c0-3324-4c9c-8ce1-334b8e2e2751",
   "metadata": {},
   "source": [
    "# Regression analysis"
   ]
  },
  {
   "cell_type": "markdown",
   "id": "cab52dc6-0357-4a61-a0b4-f8403214b7fd",
   "metadata": {},
   "source": [
    "## 1. Import packages"
   ]
  },
  {
   "cell_type": "code",
   "execution_count": 2,
   "id": "5e04ffec-5853-4ab5-8fa8-93f87aefa84b",
   "metadata": {},
   "outputs": [],
   "source": [
    "import pandas as pd\n",
    "\n",
    "import statsmodels.api as sm\n",
    "from statsmodels.miscmodels.ordinal_model import OrderedModel"
   ]
  },
  {
   "cell_type": "markdown",
   "id": "3edf0d9a-d79a-4835-a721-b3f0759bf6a3",
   "metadata": {},
   "source": [
    "## 2. Load the data"
   ]
  },
  {
   "cell_type": "code",
   "execution_count": 3,
   "id": "c607fb62-3f7d-4db2-bb37-87a766628724",
   "metadata": {},
   "outputs": [],
   "source": [
    "data = pd.read_csv(\"../../data/reg_data_cz.csv\")"
   ]
  },
  {
   "cell_type": "code",
   "execution_count": 7,
   "id": "f6c8578f-168c-4ef6-875e-509265498826",
   "metadata": {},
   "outputs": [
    {
     "data": {
      "text/html": [
       "<div>\n",
       "<style scoped>\n",
       "    .dataframe tbody tr th:only-of-type {\n",
       "        vertical-align: middle;\n",
       "    }\n",
       "\n",
       "    .dataframe tbody tr th {\n",
       "        vertical-align: top;\n",
       "    }\n",
       "\n",
       "    .dataframe thead th {\n",
       "        text-align: right;\n",
       "    }\n",
       "</style>\n",
       "<table border=\"1\" class=\"dataframe\">\n",
       "  <thead>\n",
       "    <tr style=\"text-align: right;\">\n",
       "      <th></th>\n",
       "      <th>date</th>\n",
       "      <th>sentiment</th>\n",
       "      <th>disagreement</th>\n",
       "      <th>policy_change</th>\n",
       "      <th>policy_binned</th>\n",
       "      <th>hicp</th>\n",
       "    </tr>\n",
       "  </thead>\n",
       "  <tbody>\n",
       "    <tr>\n",
       "      <th>0</th>\n",
       "      <td>1998-01-22</td>\n",
       "      <td>-0.589855</td>\n",
       "      <td>0.000000</td>\n",
       "      <td>0.00</td>\n",
       "      <td>0</td>\n",
       "      <td>12.1</td>\n",
       "    </tr>\n",
       "    <tr>\n",
       "      <th>1</th>\n",
       "      <td>1998-02-19</td>\n",
       "      <td>0.148933</td>\n",
       "      <td>0.000000</td>\n",
       "      <td>0.00</td>\n",
       "      <td>0</td>\n",
       "      <td>12.4</td>\n",
       "    </tr>\n",
       "    <tr>\n",
       "      <th>2</th>\n",
       "      <td>1998-03-19</td>\n",
       "      <td>0.690357</td>\n",
       "      <td>0.075000</td>\n",
       "      <td>0.00</td>\n",
       "      <td>0</td>\n",
       "      <td>12.4</td>\n",
       "    </tr>\n",
       "    <tr>\n",
       "      <th>3</th>\n",
       "      <td>1998-04-30</td>\n",
       "      <td>-0.957909</td>\n",
       "      <td>0.000000</td>\n",
       "      <td>0.00</td>\n",
       "      <td>0</td>\n",
       "      <td>12.0</td>\n",
       "    </tr>\n",
       "    <tr>\n",
       "      <th>4</th>\n",
       "      <td>1998-05-28</td>\n",
       "      <td>0.261321</td>\n",
       "      <td>0.000000</td>\n",
       "      <td>0.00</td>\n",
       "      <td>0</td>\n",
       "      <td>12.0</td>\n",
       "    </tr>\n",
       "    <tr>\n",
       "      <th>...</th>\n",
       "      <td>...</td>\n",
       "      <td>...</td>\n",
       "      <td>...</td>\n",
       "      <td>...</td>\n",
       "      <td>...</td>\n",
       "      <td>...</td>\n",
       "    </tr>\n",
       "    <tr>\n",
       "      <th>260</th>\n",
       "      <td>2024-03-20</td>\n",
       "      <td>-0.561032</td>\n",
       "      <td>0.014881</td>\n",
       "      <td>-0.50</td>\n",
       "      <td>-1</td>\n",
       "      <td>2.2</td>\n",
       "    </tr>\n",
       "    <tr>\n",
       "      <th>261</th>\n",
       "      <td>2024-05-02</td>\n",
       "      <td>0.326247</td>\n",
       "      <td>0.000000</td>\n",
       "      <td>-0.50</td>\n",
       "      <td>-1</td>\n",
       "      <td>3.1</td>\n",
       "    </tr>\n",
       "    <tr>\n",
       "      <th>262</th>\n",
       "      <td>2024-06-27</td>\n",
       "      <td>-0.093437</td>\n",
       "      <td>0.014881</td>\n",
       "      <td>-0.50</td>\n",
       "      <td>-1</td>\n",
       "      <td>2.2</td>\n",
       "    </tr>\n",
       "    <tr>\n",
       "      <th>263</th>\n",
       "      <td>2024-08-01</td>\n",
       "      <td>0.250993</td>\n",
       "      <td>0.000000</td>\n",
       "      <td>-0.25</td>\n",
       "      <td>-1</td>\n",
       "      <td>2.5</td>\n",
       "    </tr>\n",
       "    <tr>\n",
       "      <th>264</th>\n",
       "      <td>2024-09-25</td>\n",
       "      <td>-0.793491</td>\n",
       "      <td>0.000000</td>\n",
       "      <td>-0.25</td>\n",
       "      <td>-1</td>\n",
       "      <td>2.8</td>\n",
       "    </tr>\n",
       "  </tbody>\n",
       "</table>\n",
       "<p>265 rows × 6 columns</p>\n",
       "</div>"
      ],
      "text/plain": [
       "           date  sentiment  disagreement  policy_change policy_binned  hicp\n",
       "0    1998-01-22  -0.589855      0.000000           0.00             0  12.1\n",
       "1    1998-02-19   0.148933      0.000000           0.00             0  12.4\n",
       "2    1998-03-19   0.690357      0.075000           0.00             0  12.4\n",
       "3    1998-04-30  -0.957909      0.000000           0.00             0  12.0\n",
       "4    1998-05-28   0.261321      0.000000           0.00             0  12.0\n",
       "..          ...        ...           ...            ...           ...   ...\n",
       "260  2024-03-20  -0.561032      0.014881          -0.50            -1   2.2\n",
       "261  2024-05-02   0.326247      0.000000          -0.50            -1   3.1\n",
       "262  2024-06-27  -0.093437      0.014881          -0.50            -1   2.2\n",
       "263  2024-08-01   0.250993      0.000000          -0.25            -1   2.5\n",
       "264  2024-09-25  -0.793491      0.000000          -0.25            -1   2.8\n",
       "\n",
       "[265 rows x 6 columns]"
      ]
     },
     "execution_count": 7,
     "metadata": {},
     "output_type": "execute_result"
    }
   ],
   "source": [
    "data"
   ]
  },
  {
   "cell_type": "code",
   "execution_count": 4,
   "id": "ad0d1bf2-386d-4aa4-922d-a90c48fc7178",
   "metadata": {},
   "outputs": [],
   "source": [
    "data[\"policy_binned\"] = pd.Categorical(data[\"policy_binned\"], ordered=True)"
   ]
  },
  {
   "cell_type": "code",
   "execution_count": 9,
   "id": "a4fac056-1158-4517-a65e-139a5665ffd2",
   "metadata": {},
   "outputs": [],
   "source": [
    "correlation = data[['sentiment', 'policy_change']].corr()"
   ]
  },
  {
   "cell_type": "code",
   "execution_count": 10,
   "id": "63ba82c1-315a-46ee-a44e-ae9523e18696",
   "metadata": {},
   "outputs": [
    {
     "data": {
      "text/html": [
       "<div>\n",
       "<style scoped>\n",
       "    .dataframe tbody tr th:only-of-type {\n",
       "        vertical-align: middle;\n",
       "    }\n",
       "\n",
       "    .dataframe tbody tr th {\n",
       "        vertical-align: top;\n",
       "    }\n",
       "\n",
       "    .dataframe thead th {\n",
       "        text-align: right;\n",
       "    }\n",
       "</style>\n",
       "<table border=\"1\" class=\"dataframe\">\n",
       "  <thead>\n",
       "    <tr style=\"text-align: right;\">\n",
       "      <th></th>\n",
       "      <th>sentiment</th>\n",
       "      <th>policy_change</th>\n",
       "    </tr>\n",
       "  </thead>\n",
       "  <tbody>\n",
       "    <tr>\n",
       "      <th>sentiment</th>\n",
       "      <td>1.000000</td>\n",
       "      <td>0.545965</td>\n",
       "    </tr>\n",
       "    <tr>\n",
       "      <th>policy_change</th>\n",
       "      <td>0.545965</td>\n",
       "      <td>1.000000</td>\n",
       "    </tr>\n",
       "  </tbody>\n",
       "</table>\n",
       "</div>"
      ],
      "text/plain": [
       "               sentiment  policy_change\n",
       "sentiment       1.000000       0.545965\n",
       "policy_change   0.545965       1.000000"
      ]
     },
     "execution_count": 10,
     "metadata": {},
     "output_type": "execute_result"
    }
   ],
   "source": [
    "correlation"
   ]
  },
  {
   "cell_type": "markdown",
   "id": "e2e546f4-4c92-4f10-8191-ffb4c58d344c",
   "metadata": {},
   "source": [
    "## 3. Estimate the models"
   ]
  },
  {
   "cell_type": "markdown",
   "id": "4503b7d0-b3db-4cd6-b87d-6f3aae284167",
   "metadata": {},
   "source": [
    "### Model 1"
   ]
  },
  {
   "cell_type": "markdown",
   "id": "f25ca885-c2ad-4025-b7a0-d036e5bd75e3",
   "metadata": {},
   "source": [
    "Model 1 is specified as:\n",
    "$$\n",
    "\\Delta r_{t+1} = \\beta_{0} + \\beta_{1} \\Delta r_{t} + \\beta_{2} S_{t} + \\epsilon_{t}\n",
    "$$\n",
    "\n",
    "- $\\Delta r_{t+1}$: Policy rate change at $t+1$\n",
    "- $\\Delta r_{t}$: Policy rate change at $t$\n",
    "- $S_{t}$: Sentiment at $t$\n",
    "- $\\epsilon_{t}$: Error term."
   ]
  },
  {
   "cell_type": "markdown",
   "id": "99a48c90-3da1-4461-b273-a7f23469c4a5",
   "metadata": {},
   "source": [
    "#### Prepare the dependent and independent variables"
   ]
  },
  {
   "cell_type": "code",
   "execution_count": 57,
   "id": "4b06ff97-097a-44af-9539-544a3927269b",
   "metadata": {},
   "outputs": [],
   "source": [
    "y = data[\"policy_binned\"].cat.codes[1:].reset_index(drop=True)"
   ]
  },
  {
   "cell_type": "code",
   "execution_count": 58,
   "id": "acdf1602-a25c-456a-bed9-934900305681",
   "metadata": {},
   "outputs": [],
   "source": [
    "X = pd.DataFrame({\n",
    "    \"policy_binned\": data[\"policy_binned\"].cat.codes[:-1],\n",
    "    \"sentiment\": data[\"sentiment\"][:-1],\n",
    "})"
   ]
  },
  {
   "cell_type": "code",
   "execution_count": 59,
   "id": "a051385b-e3a9-4719-8010-98354893fc82",
   "metadata": {},
   "outputs": [],
   "source": [
    "model_1 = OrderedModel(y, X, distr='probit')"
   ]
  },
  {
   "cell_type": "code",
   "execution_count": 60,
   "id": "c7e9b15e-4eba-4504-aa4f-d976317d49eb",
   "metadata": {},
   "outputs": [
    {
     "name": "stdout",
     "output_type": "stream",
     "text": [
      "Optimization terminated successfully.\n",
      "         Current function value: 0.671835\n",
      "         Iterations: 180\n",
      "         Function evaluations: 304\n"
     ]
    }
   ],
   "source": [
    "results_1 = model_1.fit()"
   ]
  },
  {
   "cell_type": "code",
   "execution_count": 61,
   "id": "32c77fb1-4328-4706-85a8-145614f9cc64",
   "metadata": {},
   "outputs": [
    {
     "name": "stdout",
     "output_type": "stream",
     "text": [
      "                             OrderedModel Results                             \n",
      "==============================================================================\n",
      "Dep. Variable:                      y   Log-Likelihood:                -177.36\n",
      "Model:                   OrderedModel   AIC:                             362.7\n",
      "Method:            Maximum Likelihood   BIC:                             377.0\n",
      "Date:                Sat, 19 Oct 2024                                         \n",
      "Time:                        16:15:26                                         \n",
      "No. Observations:                 264                                         \n",
      "Df Residuals:                     260                                         \n",
      "Df Model:                           2                                         \n",
      "=================================================================================\n",
      "                    coef    std err          z      P>|z|      [0.025      0.975]\n",
      "---------------------------------------------------------------------------------\n",
      "policy_binned     0.6818      0.180      3.792      0.000       0.329       1.034\n",
      "sentiment         0.5420      0.125      4.333      0.000       0.297       0.787\n",
      "0/1              -0.3748      0.176     -2.135      0.033      -0.719      -0.031\n",
      "1/2               0.9485      0.066     14.383      0.000       0.819       1.078\n",
      "=================================================================================\n"
     ]
    }
   ],
   "source": [
    "print(results_1.summary())"
   ]
  },
  {
   "cell_type": "markdown",
   "id": "0bbbafb8-762f-41d0-b07b-dc08f9617d44",
   "metadata": {},
   "source": [
    "### Model 2"
   ]
  },
  {
   "cell_type": "markdown",
   "id": "86c476cc-7633-42ff-af1b-0862e17c1245",
   "metadata": {},
   "source": [
    "Model 2 is specified as:\n",
    "$$\n",
    "\\Delta r_{t+1} = \\beta_{0} + \\beta_{1} \\Delta r_{t} + \\beta_{2} S_{t} + \\beta_{3} Disag_{t} +\\epsilon_{t}\n",
    "$$\n",
    "\n",
    "- $\\Delta r_{t+1}$: Policy rate change at $t+1$.\n",
    "- $\\Delta r_{t}$: Policy rate change at $t$.\n",
    "- $S_{t}$: Sentiment at $t$.\n",
    "- $Disag_{t}$: Level of disagreement about policy rate change at $t$.\n",
    "- $\\epsilon_{t}$: Error term."
   ]
  },
  {
   "cell_type": "code",
   "execution_count": 65,
   "id": "dd2b5469-6d46-4cac-adf4-4e07ee5f5492",
   "metadata": {},
   "outputs": [],
   "source": [
    "y = data[\"policy_binned\"].cat.codes[1:].reset_index(drop=True)"
   ]
  },
  {
   "cell_type": "code",
   "execution_count": 66,
   "id": "c4ce37ff-e023-46b8-ac47-c7c93986985f",
   "metadata": {},
   "outputs": [],
   "source": [
    "X = pd.DataFrame({\n",
    "    \"policy_binned\": data[\"policy_binned\"].cat.codes[:-1],\n",
    "    \"sentiment\": data[\"sentiment\"][:-1],\n",
    "    \"disagreement\": data[\"disagreement\"][:-1],\n",
    "})"
   ]
  },
  {
   "cell_type": "code",
   "execution_count": 67,
   "id": "0106b18e-00f7-4c9c-bc16-55708adf5a28",
   "metadata": {},
   "outputs": [],
   "source": [
    "model_2 = OrderedModel(y, X, distr='probit')"
   ]
  },
  {
   "cell_type": "code",
   "execution_count": 68,
   "id": "bd5c593c-e940-4f23-bd88-4b5e0bcde5d6",
   "metadata": {},
   "outputs": [
    {
     "name": "stderr",
     "output_type": "stream",
     "text": [
      "/Users/bernhardbrunner/Desktop/venvs/finance_venv/lib/python3.11/site-packages/statsmodels/base/optimizer.py:737: RuntimeWarning: Maximum number of iterations has been exceeded.\n",
      "  retvals = optimize.fmin(f, start_params, args=fargs, xtol=xtol,\n",
      "/Users/bernhardbrunner/Desktop/venvs/finance_venv/lib/python3.11/site-packages/statsmodels/base/model.py:607: ConvergenceWarning: Maximum Likelihood optimization failed to converge. Check mle_retvals\n",
      "  warnings.warn(\"Maximum Likelihood optimization failed to \"\n"
     ]
    }
   ],
   "source": [
    "results_2 = model_2.fit()"
   ]
  },
  {
   "cell_type": "code",
   "execution_count": 69,
   "id": "58b7310f-2431-474f-a5f8-264fc89a1a86",
   "metadata": {},
   "outputs": [
    {
     "name": "stdout",
     "output_type": "stream",
     "text": [
      "                             OrderedModel Results                             \n",
      "==============================================================================\n",
      "Dep. Variable:                      y   Log-Likelihood:                -177.26\n",
      "Model:                   OrderedModel   AIC:                             364.5\n",
      "Method:            Maximum Likelihood   BIC:                             382.4\n",
      "Date:                Sat, 19 Oct 2024                                         \n",
      "Time:                        16:16:19                                         \n",
      "No. Observations:                 264                                         \n",
      "Df Residuals:                     259                                         \n",
      "Df Model:                           3                                         \n",
      "=================================================================================\n",
      "                    coef    std err          z      P>|z|      [0.025      0.975]\n",
      "---------------------------------------------------------------------------------\n",
      "policy_binned     0.6685      0.182      3.670      0.000       0.311       1.025\n",
      "sentiment         0.5442      0.125      4.346      0.000       0.299       0.790\n",
      "disagreement      0.7943      1.756      0.452      0.651      -2.647       4.235\n",
      "0/1              -0.3748      0.176     -2.135      0.033      -0.719      -0.031\n",
      "1/2               0.9494      0.066     14.379      0.000       0.820       1.079\n",
      "=================================================================================\n"
     ]
    }
   ],
   "source": [
    "print(results_2.summary())"
   ]
  },
  {
   "cell_type": "markdown",
   "id": "c18a3fe7-11a6-4adf-b01b-b68161f6cb29",
   "metadata": {},
   "source": [
    "### Model 3"
   ]
  },
  {
   "cell_type": "markdown",
   "id": "4f007717-751c-4197-847f-ef625bccee80",
   "metadata": {},
   "source": [
    "Model 3 is specified as:\n",
    "$$\n",
    "\\Delta r_{t+1} = \\beta_{0} + \\beta_{1} \\Delta r_{t} + \\beta_{2} S_{t} + \\beta_{3} (\\pi_{t} - \\pi^*) +\\epsilon_{t}\n",
    "$$\n",
    "\n",
    "- $\\Delta r_{t+1}$: Policy rate change at $t+1$.\n",
    "- $\\Delta r_{t}$: Policy rate change at $t$.\n",
    "- $S_{t}$: Sentiment at $t$.\n",
    "- $Disag_{t}$: Level of disagreement about policy rate change at $t$.\n",
    "- $\\epsilon_{t}$: Error term."
   ]
  },
  {
   "cell_type": "code",
   "execution_count": null,
   "id": "1fefbad3-5d4c-41fa-83aa-b5bd98a6d490",
   "metadata": {},
   "outputs": [],
   "source": []
  }
 ],
 "metadata": {
  "kernelspec": {
   "display_name": "Python 3 (ipykernel)",
   "language": "python",
   "name": "python3"
  },
  "language_info": {
   "codemirror_mode": {
    "name": "ipython",
    "version": 3
   },
   "file_extension": ".py",
   "mimetype": "text/x-python",
   "name": "python",
   "nbconvert_exporter": "python",
   "pygments_lexer": "ipython3",
   "version": "3.11.5"
  }
 },
 "nbformat": 4,
 "nbformat_minor": 5
}
