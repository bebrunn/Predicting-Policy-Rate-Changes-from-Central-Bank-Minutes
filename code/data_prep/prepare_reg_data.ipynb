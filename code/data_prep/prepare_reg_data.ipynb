{
 "cells": [
  {
   "cell_type": "markdown",
   "id": "9f47248c-1d8c-44b1-9cce-3d22f78ebf82",
   "metadata": {},
   "source": [
    "# Data preparation for regression analysis"
   ]
  },
  {
   "cell_type": "markdown",
   "id": "1b1879e6-6a75-41ae-a879-07ec2f879829",
   "metadata": {},
   "source": [
    "## 1. Import packages"
   ]
  },
  {
   "cell_type": "code",
   "execution_count": 1,
   "id": "be090d7d-13b3-417f-9d69-2f6e4955caa9",
   "metadata": {},
   "outputs": [],
   "source": [
    "import pandas as pd\n",
    "import numpy as np\n",
    "from statsmodels.tsa.filters.hp_filter import hpfilter\n",
    "from datetime import timedelta"
   ]
  },
  {
   "cell_type": "markdown",
   "id": "fcb56f56-368a-4662-aad2-9a4f6044db0f",
   "metadata": {},
   "source": [
    "## 2. Load data and create individual data frames"
   ]
  },
  {
   "cell_type": "markdown",
   "id": "a04bd025-d85e-4baf-b15b-dfeb2e71b7ae",
   "metadata": {},
   "source": [
    "### 2.1 2-week repo rate"
   ]
  },
  {
   "cell_type": "code",
   "execution_count": 2,
   "id": "244ba00d-fe39-4383-a1ef-465a18b9fb57",
   "metadata": {},
   "outputs": [],
   "source": [
    "repo_rate = pd.read_csv(\"../../data/cnb_repo.txt\", sep=\"|\")"
   ]
  },
  {
   "cell_type": "code",
   "execution_count": 3,
   "id": "2abb1658-fad3-4e9c-986c-63632087d1b3",
   "metadata": {},
   "outputs": [],
   "source": [
    "repo_rate[\"VALID_FROM\"] = pd.to_datetime(repo_rate[\"VALID_FROM\"], format=\"%Y%m%d\")"
   ]
  },
  {
   "cell_type": "code",
   "execution_count": 4,
   "id": "196e8288-17af-4717-b5b6-43ac38b2e754",
   "metadata": {},
   "outputs": [],
   "source": [
    "repo_rate = repo_rate.rename(columns={\"VALID_FROM\": \"date\", \"CNB_REPO_RATE_IN_%\": \"r\"})"
   ]
  },
  {
   "cell_type": "code",
   "execution_count": 5,
   "id": "fc37b2ab-e880-4b2e-96ae-95af6145a3f0",
   "metadata": {},
   "outputs": [],
   "source": [
    "repo_rate[\"d_r\"] = repo_rate[\"r\"].diff()"
   ]
  },
  {
   "cell_type": "code",
   "execution_count": 6,
   "id": "a9be357b-b1cf-45a5-86f5-5c0dd66d3123",
   "metadata": {},
   "outputs": [],
   "source": [
    "repo_rate = repo_rate[repo_rate[\"date\"] >= \"1998-01-22\"].reset_index(drop=True)"
   ]
  },
  {
   "cell_type": "code",
   "execution_count": 7,
   "id": "dfb21bc1-3c57-462f-a5aa-9669f7e2f8b5",
   "metadata": {},
   "outputs": [],
   "source": [
    "repo_rate = repo_rate.sort_values(\"date\")"
   ]
  },
  {
   "cell_type": "code",
   "execution_count": 8,
   "id": "5ab71d12-310a-4d81-973b-5743f4aaccde",
   "metadata": {},
   "outputs": [
    {
     "data": {
      "text/html": [
       "<div>\n",
       "<style scoped>\n",
       "    .dataframe tbody tr th:only-of-type {\n",
       "        vertical-align: middle;\n",
       "    }\n",
       "\n",
       "    .dataframe tbody tr th {\n",
       "        vertical-align: top;\n",
       "    }\n",
       "\n",
       "    .dataframe thead th {\n",
       "        text-align: right;\n",
       "    }\n",
       "</style>\n",
       "<table border=\"1\" class=\"dataframe\">\n",
       "  <thead>\n",
       "    <tr style=\"text-align: right;\">\n",
       "      <th></th>\n",
       "      <th>date</th>\n",
       "      <th>r</th>\n",
       "      <th>d_r</th>\n",
       "    </tr>\n",
       "  </thead>\n",
       "  <tbody>\n",
       "    <tr>\n",
       "      <th>0</th>\n",
       "      <td>1998-03-20</td>\n",
       "      <td>15.0</td>\n",
       "      <td>0.25</td>\n",
       "    </tr>\n",
       "    <tr>\n",
       "      <th>1</th>\n",
       "      <td>1998-07-17</td>\n",
       "      <td>14.5</td>\n",
       "      <td>-0.50</td>\n",
       "    </tr>\n",
       "    <tr>\n",
       "      <th>2</th>\n",
       "      <td>1998-08-14</td>\n",
       "      <td>14.0</td>\n",
       "      <td>-0.50</td>\n",
       "    </tr>\n",
       "    <tr>\n",
       "      <th>3</th>\n",
       "      <td>1998-09-25</td>\n",
       "      <td>13.5</td>\n",
       "      <td>-0.50</td>\n",
       "    </tr>\n",
       "    <tr>\n",
       "      <th>4</th>\n",
       "      <td>1998-10-27</td>\n",
       "      <td>12.5</td>\n",
       "      <td>-1.00</td>\n",
       "    </tr>\n",
       "  </tbody>\n",
       "</table>\n",
       "</div>"
      ],
      "text/plain": [
       "        date     r   d_r\n",
       "0 1998-03-20  15.0  0.25\n",
       "1 1998-07-17  14.5 -0.50\n",
       "2 1998-08-14  14.0 -0.50\n",
       "3 1998-09-25  13.5 -0.50\n",
       "4 1998-10-27  12.5 -1.00"
      ]
     },
     "execution_count": 8,
     "metadata": {},
     "output_type": "execute_result"
    }
   ],
   "source": [
    "repo_rate.head()"
   ]
  },
  {
   "cell_type": "markdown",
   "id": "b4d93953-482e-4684-b969-d40aca482ec7",
   "metadata": {},
   "source": [
    "### Sentiments"
   ]
  },
  {
   "cell_type": "code",
   "execution_count": 9,
   "id": "64f2c475-c722-4235-b501-d09bf1e4d743",
   "metadata": {},
   "outputs": [],
   "source": [
    "sentiments = pd.read_csv(\n",
    "    \"../../predictions/sentiment_predictions.tsv\", sep=\"\\t\", header=0, names=[\"date\", \"sentiment\", \"net_hawk\"]\n",
    ")"
   ]
  },
  {
   "cell_type": "code",
   "execution_count": 10,
   "id": "99d0df30-9cf1-43c7-8b82-c567b210a360",
   "metadata": {},
   "outputs": [],
   "source": [
    "dates = sentiments[\"date\"].str.split(\".\")"
   ]
  },
  {
   "cell_type": "code",
   "execution_count": 11,
   "id": "34427af9-2194-4c05-bc82-04392685d6e3",
   "metadata": {},
   "outputs": [],
   "source": [
    "sentiments[\"date\"] = dates.apply(lambda x: x[0])"
   ]
  },
  {
   "cell_type": "code",
   "execution_count": 12,
   "id": "6979588f-f007-4a98-bfb7-290ea80579ed",
   "metadata": {},
   "outputs": [],
   "source": [
    "sentiments[\"date\"] = pd.to_datetime(sentiments[\"date\"], format=\"%Y%m%d\")"
   ]
  },
  {
   "cell_type": "code",
   "execution_count": 13,
   "id": "9e84beaa-2f6e-4c39-9f66-9cc4bfca4020",
   "metadata": {},
   "outputs": [
    {
     "data": {
      "text/html": [
       "<div>\n",
       "<style scoped>\n",
       "    .dataframe tbody tr th:only-of-type {\n",
       "        vertical-align: middle;\n",
       "    }\n",
       "\n",
       "    .dataframe tbody tr th {\n",
       "        vertical-align: top;\n",
       "    }\n",
       "\n",
       "    .dataframe thead th {\n",
       "        text-align: right;\n",
       "    }\n",
       "</style>\n",
       "<table border=\"1\" class=\"dataframe\">\n",
       "  <thead>\n",
       "    <tr style=\"text-align: right;\">\n",
       "      <th></th>\n",
       "      <th>date</th>\n",
       "      <th>sentiment</th>\n",
       "      <th>net_hawk</th>\n",
       "    </tr>\n",
       "  </thead>\n",
       "  <tbody>\n",
       "    <tr>\n",
       "      <th>0</th>\n",
       "      <td>1998-01-22</td>\n",
       "      <td>neutral</td>\n",
       "      <td>-0.836015</td>\n",
       "    </tr>\n",
       "    <tr>\n",
       "      <th>1</th>\n",
       "      <td>1998-02-19</td>\n",
       "      <td>neutral</td>\n",
       "      <td>0.188282</td>\n",
       "    </tr>\n",
       "    <tr>\n",
       "      <th>2</th>\n",
       "      <td>1998-03-19</td>\n",
       "      <td>neutral</td>\n",
       "      <td>1.333873</td>\n",
       "    </tr>\n",
       "    <tr>\n",
       "      <th>3</th>\n",
       "      <td>1998-04-30</td>\n",
       "      <td>hawkish</td>\n",
       "      <td>0.291455</td>\n",
       "    </tr>\n",
       "    <tr>\n",
       "      <th>4</th>\n",
       "      <td>1998-05-28</td>\n",
       "      <td>neutral</td>\n",
       "      <td>0.295797</td>\n",
       "    </tr>\n",
       "  </tbody>\n",
       "</table>\n",
       "</div>"
      ],
      "text/plain": [
       "        date sentiment  net_hawk\n",
       "0 1998-01-22   neutral -0.836015\n",
       "1 1998-02-19   neutral  0.188282\n",
       "2 1998-03-19   neutral  1.333873\n",
       "3 1998-04-30   hawkish  0.291455\n",
       "4 1998-05-28   neutral  0.295797"
      ]
     },
     "execution_count": 13,
     "metadata": {},
     "output_type": "execute_result"
    }
   ],
   "source": [
    "sentiments.head()"
   ]
  },
  {
   "cell_type": "markdown",
   "id": "96d5b1da-3a6b-43b7-9734-269ff09a52b5",
   "metadata": {},
   "source": [
    "Here, I am computing disagreement as the standard deviation of suggested policy rate changes among board members."
   ]
  },
  {
   "cell_type": "markdown",
   "id": "1b4afad0-bf85-475f-beac-c6dc9cef9787",
   "metadata": {},
   "source": [
    "### Inflation rate"
   ]
  },
  {
   "cell_type": "markdown",
   "id": "8771636b-eac8-4e1a-87b0-76bf3788da40",
   "metadata": {},
   "source": [
    "HICP for the CZ from the ECB: https://tinyurl.com/bdyn72sk [retrieved: 19.10.2024]"
   ]
  },
  {
   "cell_type": "code",
   "execution_count": 14,
   "id": "3c914282-7d40-4845-89e5-290f5eb871b6",
   "metadata": {},
   "outputs": [],
   "source": [
    "inflation = pd.read_csv(\n",
    "    \"../../data/hicp_cz_monthly.csv\", header=0, usecols=[\"DATE\", \"HICP - Overall index (ICP.M.CZ.N.000000.4.ANR)\"]\n",
    ")"
   ]
  },
  {
   "cell_type": "code",
   "execution_count": 15,
   "id": "4fd787af-183e-484c-b5bb-75edee9133a3",
   "metadata": {},
   "outputs": [],
   "source": [
    "inflation.columns = [\"date\", \"hicp\"]"
   ]
  },
  {
   "cell_type": "code",
   "execution_count": 16,
   "id": "21a979a1-9e2e-4ae0-957b-5c2cacbacbab",
   "metadata": {},
   "outputs": [],
   "source": [
    "inflation[\"date\"] = pd.to_datetime(inflation[\"date\"])"
   ]
  },
  {
   "cell_type": "code",
   "execution_count": 17,
   "id": "7ee4cf50-efab-483a-9822-f485fd2f789b",
   "metadata": {},
   "outputs": [],
   "source": [
    "inflation[\"d_hicp\"] = inflation[\"hicp\"].diff()"
   ]
  },
  {
   "cell_type": "code",
   "execution_count": 18,
   "id": "a60a99f8-86ae-4847-873e-4028c380afe6",
   "metadata": {},
   "outputs": [],
   "source": [
    "inflation = inflation[inflation[\"date\"] >= \"1998-01-01\"].reset_index(drop=True)"
   ]
  },
  {
   "cell_type": "code",
   "execution_count": 19,
   "id": "fbf7f24c-eea3-4234-b5fc-e3959c99d763",
   "metadata": {},
   "outputs": [
    {
     "data": {
      "text/html": [
       "<div>\n",
       "<style scoped>\n",
       "    .dataframe tbody tr th:only-of-type {\n",
       "        vertical-align: middle;\n",
       "    }\n",
       "\n",
       "    .dataframe tbody tr th {\n",
       "        vertical-align: top;\n",
       "    }\n",
       "\n",
       "    .dataframe thead th {\n",
       "        text-align: right;\n",
       "    }\n",
       "</style>\n",
       "<table border=\"1\" class=\"dataframe\">\n",
       "  <thead>\n",
       "    <tr style=\"text-align: right;\">\n",
       "      <th></th>\n",
       "      <th>date</th>\n",
       "      <th>hicp</th>\n",
       "      <th>d_hicp</th>\n",
       "    </tr>\n",
       "  </thead>\n",
       "  <tbody>\n",
       "    <tr>\n",
       "      <th>0</th>\n",
       "      <td>1998-01-31</td>\n",
       "      <td>12.1</td>\n",
       "      <td>2.7</td>\n",
       "    </tr>\n",
       "    <tr>\n",
       "      <th>1</th>\n",
       "      <td>1998-02-28</td>\n",
       "      <td>12.4</td>\n",
       "      <td>0.3</td>\n",
       "    </tr>\n",
       "    <tr>\n",
       "      <th>2</th>\n",
       "      <td>1998-03-31</td>\n",
       "      <td>12.4</td>\n",
       "      <td>0.0</td>\n",
       "    </tr>\n",
       "    <tr>\n",
       "      <th>3</th>\n",
       "      <td>1998-04-30</td>\n",
       "      <td>12.0</td>\n",
       "      <td>-0.4</td>\n",
       "    </tr>\n",
       "    <tr>\n",
       "      <th>4</th>\n",
       "      <td>1998-05-31</td>\n",
       "      <td>12.0</td>\n",
       "      <td>0.0</td>\n",
       "    </tr>\n",
       "  </tbody>\n",
       "</table>\n",
       "</div>"
      ],
      "text/plain": [
       "        date  hicp  d_hicp\n",
       "0 1998-01-31  12.1     2.7\n",
       "1 1998-02-28  12.4     0.3\n",
       "2 1998-03-31  12.4     0.0\n",
       "3 1998-04-30  12.0    -0.4\n",
       "4 1998-05-31  12.0     0.0"
      ]
     },
     "execution_count": 19,
     "metadata": {},
     "output_type": "execute_result"
    }
   ],
   "source": [
    "inflation.head()"
   ]
  },
  {
   "cell_type": "markdown",
   "id": "c8c48924-9078-408b-9fde-17671ffea861",
   "metadata": {},
   "source": [
    "### CZK to euro exchange rate"
   ]
  },
  {
   "cell_type": "code",
   "execution_count": 20,
   "id": "110e0949-6444-4279-96ba-f48335310383",
   "metadata": {},
   "outputs": [],
   "source": [
    "czk = pd.read_csv(\n",
    "            \"../../data/czk_to_eur.csv\", \n",
    "            header=0,\n",
    "            usecols=[0, 2],\n",
    "            names=[\"date\", \"czk\"]\n",
    ")"
   ]
  },
  {
   "cell_type": "code",
   "execution_count": 21,
   "id": "b81029ed-4b1d-4d51-ab97-b3e6c12e31ed",
   "metadata": {},
   "outputs": [
    {
     "name": "stderr",
     "output_type": "stream",
     "text": [
      "/Users/bernhardbrunner/Desktop/venvs/finance_venv/lib/python3.11/site-packages/openpyxl/styles/stylesheet.py:237: UserWarning: Workbook contains no default style, apply openpyxl's default\n",
      "  warn(\"Workbook contains no default style, apply openpyxl's default\")\n"
     ]
    }
   ],
   "source": [
    "dem = pd.read_excel(\n",
    "            \"../../data/dem_to_czk.xlsx\", \n",
    "            header=2,\n",
    "            names=[\"date\", \"dem\"]\n",
    ")"
   ]
  },
  {
   "cell_type": "code",
   "execution_count": 22,
   "id": "c4069dbb-f445-46f5-ac30-1c7bb5fd5b3b",
   "metadata": {},
   "outputs": [],
   "source": [
    "dem[\"czk\"] = dem[\"dem\"] * 1.95583"
   ]
  },
  {
   "cell_type": "code",
   "execution_count": 23,
   "id": "7dbda619-9327-47a0-ba45-c65cf10b60fc",
   "metadata": {},
   "outputs": [],
   "source": [
    "dem[\"date\"] = pd.to_datetime(dem[\"date\"], format=\"%d.%m.%Y\").dt.date"
   ]
  },
  {
   "cell_type": "code",
   "execution_count": 24,
   "id": "bd0cdf92-f06b-4c08-8fb2-187f3d1affb5",
   "metadata": {},
   "outputs": [],
   "source": [
    "czk_full = pd.concat([dem[[\"date\", \"czk\"]], czk], axis=0)"
   ]
  },
  {
   "cell_type": "code",
   "execution_count": 25,
   "id": "57ba4a1e-8c1f-4982-8ee4-3dd1aab28f77",
   "metadata": {},
   "outputs": [
    {
     "data": {
      "text/html": [
       "<div>\n",
       "<style scoped>\n",
       "    .dataframe tbody tr th:only-of-type {\n",
       "        vertical-align: middle;\n",
       "    }\n",
       "\n",
       "    .dataframe tbody tr th {\n",
       "        vertical-align: top;\n",
       "    }\n",
       "\n",
       "    .dataframe thead th {\n",
       "        text-align: right;\n",
       "    }\n",
       "</style>\n",
       "<table border=\"1\" class=\"dataframe\">\n",
       "  <thead>\n",
       "    <tr style=\"text-align: right;\">\n",
       "      <th></th>\n",
       "      <th>date</th>\n",
       "      <th>czk</th>\n",
       "    </tr>\n",
       "  </thead>\n",
       "  <tbody>\n",
       "    <tr>\n",
       "      <th>0</th>\n",
       "      <td>1998-01-02</td>\n",
       "      <td>37.630169</td>\n",
       "    </tr>\n",
       "    <tr>\n",
       "      <th>1</th>\n",
       "      <td>1998-01-05</td>\n",
       "      <td>37.884427</td>\n",
       "    </tr>\n",
       "    <tr>\n",
       "      <th>2</th>\n",
       "      <td>1998-01-06</td>\n",
       "      <td>38.177802</td>\n",
       "    </tr>\n",
       "    <tr>\n",
       "      <th>3</th>\n",
       "      <td>1998-01-07</td>\n",
       "      <td>38.402722</td>\n",
       "    </tr>\n",
       "    <tr>\n",
       "      <th>4</th>\n",
       "      <td>1998-01-08</td>\n",
       "      <td>38.461397</td>\n",
       "    </tr>\n",
       "    <tr>\n",
       "      <th>...</th>\n",
       "      <td>...</td>\n",
       "      <td>...</td>\n",
       "    </tr>\n",
       "    <tr>\n",
       "      <th>6701</th>\n",
       "      <td>2024-12-03</td>\n",
       "      <td>25.224000</td>\n",
       "    </tr>\n",
       "    <tr>\n",
       "      <th>6702</th>\n",
       "      <td>2024-12-04</td>\n",
       "      <td>25.196000</td>\n",
       "    </tr>\n",
       "    <tr>\n",
       "      <th>6703</th>\n",
       "      <td>2024-12-05</td>\n",
       "      <td>25.146000</td>\n",
       "    </tr>\n",
       "    <tr>\n",
       "      <th>6704</th>\n",
       "      <td>2024-12-06</td>\n",
       "      <td>25.110000</td>\n",
       "    </tr>\n",
       "    <tr>\n",
       "      <th>6705</th>\n",
       "      <td>2024-12-09</td>\n",
       "      <td>25.093000</td>\n",
       "    </tr>\n",
       "  </tbody>\n",
       "</table>\n",
       "<p>6959 rows × 2 columns</p>\n",
       "</div>"
      ],
      "text/plain": [
       "            date        czk\n",
       "0     1998-01-02  37.630169\n",
       "1     1998-01-05  37.884427\n",
       "2     1998-01-06  38.177802\n",
       "3     1998-01-07  38.402722\n",
       "4     1998-01-08  38.461397\n",
       "...          ...        ...\n",
       "6701  2024-12-03  25.224000\n",
       "6702  2024-12-04  25.196000\n",
       "6703  2024-12-05  25.146000\n",
       "6704  2024-12-06  25.110000\n",
       "6705  2024-12-09  25.093000\n",
       "\n",
       "[6959 rows x 2 columns]"
      ]
     },
     "execution_count": 25,
     "metadata": {},
     "output_type": "execute_result"
    }
   ],
   "source": [
    "czk_full"
   ]
  },
  {
   "cell_type": "code",
   "execution_count": 26,
   "id": "d897a36f-03e9-43d8-928c-99e7530d14a5",
   "metadata": {},
   "outputs": [],
   "source": [
    "czk_full[\"d_czk\"] = czk_full[\"czk\"].diff()"
   ]
  },
  {
   "cell_type": "code",
   "execution_count": 27,
   "id": "22cf1e03-7995-4fa2-8095-ba2fdf223571",
   "metadata": {},
   "outputs": [],
   "source": [
    "czk_full[\"date\"] = pd.to_datetime(czk_full[\"date\"])"
   ]
  },
  {
   "cell_type": "code",
   "execution_count": 28,
   "id": "440f9781-3eb6-44bf-b1e3-2081408e03ba",
   "metadata": {},
   "outputs": [],
   "source": [
    "czk_full = czk_full[czk_full[\"date\"] >= \"1998-01-01\"].reset_index(drop=True)"
   ]
  },
  {
   "cell_type": "code",
   "execution_count": 29,
   "id": "137ba35b-fedb-4402-8432-f60f7ca5ce79",
   "metadata": {},
   "outputs": [
    {
     "data": {
      "text/html": [
       "<div>\n",
       "<style scoped>\n",
       "    .dataframe tbody tr th:only-of-type {\n",
       "        vertical-align: middle;\n",
       "    }\n",
       "\n",
       "    .dataframe tbody tr th {\n",
       "        vertical-align: top;\n",
       "    }\n",
       "\n",
       "    .dataframe thead th {\n",
       "        text-align: right;\n",
       "    }\n",
       "</style>\n",
       "<table border=\"1\" class=\"dataframe\">\n",
       "  <thead>\n",
       "    <tr style=\"text-align: right;\">\n",
       "      <th></th>\n",
       "      <th>date</th>\n",
       "      <th>czk</th>\n",
       "      <th>d_czk</th>\n",
       "    </tr>\n",
       "  </thead>\n",
       "  <tbody>\n",
       "    <tr>\n",
       "      <th>0</th>\n",
       "      <td>1998-01-02</td>\n",
       "      <td>37.630169</td>\n",
       "      <td>NaN</td>\n",
       "    </tr>\n",
       "    <tr>\n",
       "      <th>1</th>\n",
       "      <td>1998-01-05</td>\n",
       "      <td>37.884427</td>\n",
       "      <td>0.254258</td>\n",
       "    </tr>\n",
       "    <tr>\n",
       "      <th>2</th>\n",
       "      <td>1998-01-06</td>\n",
       "      <td>38.177802</td>\n",
       "      <td>0.293374</td>\n",
       "    </tr>\n",
       "    <tr>\n",
       "      <th>3</th>\n",
       "      <td>1998-01-07</td>\n",
       "      <td>38.402722</td>\n",
       "      <td>0.224920</td>\n",
       "    </tr>\n",
       "    <tr>\n",
       "      <th>4</th>\n",
       "      <td>1998-01-08</td>\n",
       "      <td>38.461397</td>\n",
       "      <td>0.058675</td>\n",
       "    </tr>\n",
       "  </tbody>\n",
       "</table>\n",
       "</div>"
      ],
      "text/plain": [
       "        date        czk     d_czk\n",
       "0 1998-01-02  37.630169       NaN\n",
       "1 1998-01-05  37.884427  0.254258\n",
       "2 1998-01-06  38.177802  0.293374\n",
       "3 1998-01-07  38.402722  0.224920\n",
       "4 1998-01-08  38.461397  0.058675"
      ]
     },
     "execution_count": 29,
     "metadata": {},
     "output_type": "execute_result"
    }
   ],
   "source": [
    "czk_full.head()"
   ]
  },
  {
   "cell_type": "markdown",
   "id": "3aae5b99-cf93-4247-8c88-04e654f740c4",
   "metadata": {},
   "source": [
    "### Percentage deviation of real GDP from its trend"
   ]
  },
  {
   "cell_type": "code",
   "execution_count": 30,
   "id": "aefba396-a416-4a56-8816-4ef2e4d2cfc9",
   "metadata": {},
   "outputs": [],
   "source": [
    "gdp = pd.read_csv(\"../../data/gdp_quaterly.csv\", sep=\";\")"
   ]
  },
  {
   "cell_type": "code",
   "execution_count": 31,
   "id": "0556b156-cd50-47c3-841e-b6e63ffebf90",
   "metadata": {},
   "outputs": [],
   "source": [
    "gdp = gdp.drop('Unnamed: 2', axis=1)"
   ]
  },
  {
   "cell_type": "code",
   "execution_count": 32,
   "id": "7376adf2-d4ab-4333-8c0e-26240617f14d",
   "metadata": {},
   "outputs": [],
   "source": [
    "gdp.columns = [\"date\", \"quaterly_gdp\"]"
   ]
  },
  {
   "cell_type": "code",
   "execution_count": 33,
   "id": "f462c100-3da0-42ad-8ba1-96ddc578fed1",
   "metadata": {},
   "outputs": [],
   "source": [
    "gdp[\"date\"] = pd.to_datetime(gdp[\"date\"])"
   ]
  },
  {
   "cell_type": "code",
   "execution_count": 34,
   "id": "c4c871e2-add9-468a-bc46-2fd81f3fe928",
   "metadata": {},
   "outputs": [],
   "source": [
    "gdp = gdp.sort_values(by=\"date\").reset_index(drop=True)"
   ]
  },
  {
   "cell_type": "code",
   "execution_count": 35,
   "id": "2a09a9d9-0264-4f2f-9a3a-223d4e119ce2",
   "metadata": {},
   "outputs": [],
   "source": [
    "gdp_cycle, gdp_trend = hpfilter(gdp[\"quaterly_gdp\"], lamb=1600)"
   ]
  },
  {
   "cell_type": "code",
   "execution_count": 36,
   "id": "3143ce20-a46c-43e0-a28b-b5e9633c3c8e",
   "metadata": {},
   "outputs": [],
   "source": [
    "gdp[\"trend\"] = gdp_trend"
   ]
  },
  {
   "cell_type": "code",
   "execution_count": 37,
   "id": "03dbc674-808f-468d-b895-d7a51c6fc36f",
   "metadata": {},
   "outputs": [],
   "source": [
    "def percentage_diff(x, y):\n",
    "    return 100 * (x - y) / y"
   ]
  },
  {
   "cell_type": "code",
   "execution_count": 38,
   "id": "810e5b73-2d34-493c-bd0e-1c21ac763a90",
   "metadata": {},
   "outputs": [],
   "source": [
    "gdp[\"y\"] = percentage_diff(gdp[\"quaterly_gdp\"], gdp[\"trend\"])"
   ]
  },
  {
   "cell_type": "code",
   "execution_count": 39,
   "id": "40afaed3-cd4c-4222-92e3-ddec5d88d3e9",
   "metadata": {},
   "outputs": [],
   "source": [
    "gdp[\"d_y\"] = gdp[\"y\"].diff()"
   ]
  },
  {
   "cell_type": "code",
   "execution_count": 40,
   "id": "7d3eebe8-7621-4de0-9c8c-1859bc345bc5",
   "metadata": {},
   "outputs": [
    {
     "data": {
      "text/html": [
       "<div>\n",
       "<style scoped>\n",
       "    .dataframe tbody tr th:only-of-type {\n",
       "        vertical-align: middle;\n",
       "    }\n",
       "\n",
       "    .dataframe tbody tr th {\n",
       "        vertical-align: top;\n",
       "    }\n",
       "\n",
       "    .dataframe thead th {\n",
       "        text-align: right;\n",
       "    }\n",
       "</style>\n",
       "<table border=\"1\" class=\"dataframe\">\n",
       "  <thead>\n",
       "    <tr style=\"text-align: right;\">\n",
       "      <th></th>\n",
       "      <th>date</th>\n",
       "      <th>quaterly_gdp</th>\n",
       "      <th>trend</th>\n",
       "      <th>y</th>\n",
       "      <th>d_y</th>\n",
       "    </tr>\n",
       "  </thead>\n",
       "  <tbody>\n",
       "    <tr>\n",
       "      <th>0</th>\n",
       "      <td>1996-03-31</td>\n",
       "      <td>865698</td>\n",
       "      <td>855673.783775</td>\n",
       "      <td>1.171500</td>\n",
       "      <td>NaN</td>\n",
       "    </tr>\n",
       "    <tr>\n",
       "      <th>1</th>\n",
       "      <td>1996-06-30</td>\n",
       "      <td>870935</td>\n",
       "      <td>857073.946720</td>\n",
       "      <td>1.617253</td>\n",
       "      <td>0.445753</td>\n",
       "    </tr>\n",
       "    <tr>\n",
       "      <th>2</th>\n",
       "      <td>1996-09-30</td>\n",
       "      <td>875915</td>\n",
       "      <td>858480.374801</td>\n",
       "      <td>2.030871</td>\n",
       "      <td>0.413618</td>\n",
       "    </tr>\n",
       "    <tr>\n",
       "      <th>3</th>\n",
       "      <td>1996-12-31</td>\n",
       "      <td>875972</td>\n",
       "      <td>859907.996309</td>\n",
       "      <td>1.868107</td>\n",
       "      <td>-0.162763</td>\n",
       "    </tr>\n",
       "    <tr>\n",
       "      <th>4</th>\n",
       "      <td>1997-03-31</td>\n",
       "      <td>870901</td>\n",
       "      <td>861382.636181</td>\n",
       "      <td>1.105010</td>\n",
       "      <td>-0.763097</td>\n",
       "    </tr>\n",
       "  </tbody>\n",
       "</table>\n",
       "</div>"
      ],
      "text/plain": [
       "        date  quaterly_gdp          trend         y       d_y\n",
       "0 1996-03-31        865698  855673.783775  1.171500       NaN\n",
       "1 1996-06-30        870935  857073.946720  1.617253  0.445753\n",
       "2 1996-09-30        875915  858480.374801  2.030871  0.413618\n",
       "3 1996-12-31        875972  859907.996309  1.868107 -0.162763\n",
       "4 1997-03-31        870901  861382.636181  1.105010 -0.763097"
      ]
     },
     "execution_count": 40,
     "metadata": {},
     "output_type": "execute_result"
    }
   ],
   "source": [
    "gdp.head()"
   ]
  },
  {
   "cell_type": "markdown",
   "id": "441c784b-99d3-428c-859a-eda8accc08cd",
   "metadata": {},
   "source": [
    "## 3. Merge dataframes and export finished dataframe as csv"
   ]
  },
  {
   "cell_type": "markdown",
   "id": "948728c2-6dbe-47ed-954c-dfeab40567e2",
   "metadata": {},
   "source": [
    "### Preprocessing functions"
   ]
  },
  {
   "cell_type": "code",
   "execution_count": 41,
   "id": "c8021e78-ec43-4877-993e-5ac9c6947218",
   "metadata": {},
   "outputs": [
    {
     "data": {
      "text/plain": [
       "'\\ndef bin(x):\\n    if x > 0.5:\\n        return 4\\n    elif 0 < x <= 0.5:\\n        return 3\\n    elif -0.5 <= x < 0:\\n        return 1\\n    elif x < -0.5:\\n        return 0\\n    else:\\n        return 2\\n'"
      ]
     },
     "execution_count": 41,
     "metadata": {},
     "output_type": "execute_result"
    }
   ],
   "source": [
    "'''\n",
    "def bin(x):\n",
    "    if x > 0.5:\n",
    "        return 4\n",
    "    elif 0 < x <= 0.5:\n",
    "        return 3\n",
    "    elif -0.5 <= x < 0:\n",
    "        return 1\n",
    "    elif x < -0.5:\n",
    "        return 0\n",
    "    else:\n",
    "        return 2\n",
    "'''"
   ]
  },
  {
   "cell_type": "code",
   "execution_count": 42,
   "id": "7b2f45cf-7d95-43c8-8309-a8439b48400e",
   "metadata": {},
   "outputs": [],
   "source": [
    "def bin_1(x):\n",
    "    if x > 0:\n",
    "        return 2\n",
    "    elif x < 0:\n",
    "        return 0\n",
    "    else:\n",
    "        return 1"
   ]
  },
  {
   "cell_type": "code",
   "execution_count": 43,
   "id": "b7cc08bb-9b85-41ae-8854-5ee583f06715",
   "metadata": {},
   "outputs": [],
   "source": [
    "\n",
    "def bin(x):\n",
    "    if x > 1:\n",
    "        return 4\n",
    "    elif 0 < x <= 1:\n",
    "        return 3\n",
    "    elif x == 0:\n",
    "        return 2\n",
    "    elif -1 < x < 0:\n",
    "        return 1\n",
    "    else:\n",
    "        return 0\n"
   ]
  },
  {
   "cell_type": "code",
   "execution_count": 44,
   "id": "15f13db6-d61e-45ef-9b7e-5f5449581338",
   "metadata": {},
   "outputs": [],
   "source": [
    "def Normalize(x):\n",
    "    return ((x - x.min()) / (x.max() - x.min()))"
   ]
  },
  {
   "cell_type": "code",
   "execution_count": 45,
   "id": "f430836c-cc75-4825-a3e9-1b854db37bbe",
   "metadata": {},
   "outputs": [],
   "source": [
    "def Standardize(x):\n",
    "    return (x - x.mean()) / x.std()"
   ]
  },
  {
   "cell_type": "markdown",
   "id": "a3123bcc-472b-4902-a8de-e394a502117a",
   "metadata": {},
   "source": [
    "### Merge dataframes"
   ]
  },
  {
   "cell_type": "code",
   "execution_count": 46,
   "id": "218fd091-b443-4cd2-a5ed-798536ddbe51",
   "metadata": {},
   "outputs": [],
   "source": [
    "sentiment_gdp = pd.merge_asof(\n",
    "    sentiments, \n",
    "    gdp, \n",
    "    on=\"date\", \n",
    "    direction=\"backward\",\n",
    "    tolerance=pd.Timedelta(weeks=96)\n",
    ")"
   ]
  },
  {
   "cell_type": "code",
   "execution_count": 47,
   "id": "d8344eb0-4860-4e59-84d9-30d896a6872e",
   "metadata": {},
   "outputs": [],
   "source": [
    "# Possibly change to direction=\"forward\"!!\n",
    "sgrr = pd.merge_asof(\n",
    "    sentiment_gdp, \n",
    "    repo_rate, \n",
    "    on=\"date\", \n",
    "    direction=\"forward\",\n",
    "    tolerance=pd.Timedelta(days=7)\n",
    ")"
   ]
  },
  {
   "cell_type": "code",
   "execution_count": 48,
   "id": "1a58e283-91a1-48c4-95b7-8b643f638933",
   "metadata": {},
   "outputs": [],
   "source": [
    "sgrr = sgrr.fillna(0)"
   ]
  },
  {
   "cell_type": "code",
   "execution_count": 49,
   "id": "06e80e90-79be-4106-b7ec-f89aaa40dc6f",
   "metadata": {},
   "outputs": [],
   "source": [
    "sgrr[\"d_r_cat_new\"] = sgrr[\"d_r\"].apply(lambda x: bin_1(x))"
   ]
  },
  {
   "cell_type": "code",
   "execution_count": 50,
   "id": "b9fdee63-9dec-4348-9cd2-c5ca8e7faf6d",
   "metadata": {},
   "outputs": [],
   "source": [
    "sgrr[\"d_r_cat\"] = sgrr[\"d_r\"].apply(lambda x: bin(x))"
   ]
  },
  {
   "cell_type": "code",
   "execution_count": 51,
   "id": "48eb6255-96f0-4249-8e0e-12a821099cde",
   "metadata": {},
   "outputs": [],
   "source": [
    "sgrr_czk = pd.merge_asof(\n",
    "    sgrr, \n",
    "    czk_full, \n",
    "    on=\"date\", \n",
    "    direction=\"forward\",\n",
    "    tolerance=pd.Timedelta(days=3)\n",
    ")"
   ]
  },
  {
   "cell_type": "code",
   "execution_count": 52,
   "id": "ec11921a-e3c4-404d-bb0d-4b5cd3a37624",
   "metadata": {},
   "outputs": [],
   "source": [
    "data = pd.merge_asof(\n",
    "    sgrr_czk,\n",
    "    inflation,\n",
    "    on=\"date\",\n",
    "    direction=\"nearest\",\n",
    "    tolerance=pd.Timedelta(days=16)\n",
    ")"
   ]
  },
  {
   "cell_type": "code",
   "execution_count": 53,
   "id": "25806c7a-be3f-4a53-93aa-781a4ef2faf5",
   "metadata": {},
   "outputs": [],
   "source": [
    "data[\"net_hawk_norm\"] = Normalize(data[\"net_hawk\"])"
   ]
  },
  {
   "cell_type": "code",
   "execution_count": 54,
   "id": "d5602914-9cbc-4a41-b6ad-d355cdc6306b",
   "metadata": {},
   "outputs": [],
   "source": [
    "data.loc[:, \"d_r_stan\"] = Standardize(data[\"d_r\"])"
   ]
  },
  {
   "cell_type": "code",
   "execution_count": 55,
   "id": "ffbd5e91-dffe-4a91-a918-30f17c413f2c",
   "metadata": {},
   "outputs": [],
   "source": [
    "data.loc[:, \"net_hawk_stan\"] = Standardize(data[\"net_hawk\"])"
   ]
  },
  {
   "cell_type": "code",
   "execution_count": 56,
   "id": "14343909-c9ce-4e4e-b769-ad9979f0a069",
   "metadata": {},
   "outputs": [
    {
     "data": {
      "text/plain": [
       "Index(['date', 'sentiment', 'net_hawk', 'quaterly_gdp', 'trend', 'y', 'd_y',\n",
       "       'r', 'd_r', 'd_r_cat_new', 'd_r_cat', 'czk', 'd_czk', 'hicp', 'd_hicp',\n",
       "       'net_hawk_norm', 'd_r_stan', 'net_hawk_stan'],\n",
       "      dtype='object')"
      ]
     },
     "execution_count": 56,
     "metadata": {},
     "output_type": "execute_result"
    }
   ],
   "source": [
    "data.columns"
   ]
  },
  {
   "cell_type": "code",
   "execution_count": 57,
   "id": "5ad95607-58bf-4f76-a607-2a85b61bdd7a",
   "metadata": {},
   "outputs": [],
   "source": [
    "new_column_order = ['date', 'sentiment', 'net_hawk', 'net_hawk_norm', 'net_hawk_stan', 'r',\n",
    "       'd_r', 'd_r_cat', 'd_r_cat_new', 'hicp', 'd_hicp','y', 'd_y', 'czk', 'd_czk']"
   ]
  },
  {
   "cell_type": "code",
   "execution_count": 58,
   "id": "f1537923-557f-4b0c-8d3a-5fb2190e42b8",
   "metadata": {},
   "outputs": [],
   "source": [
    "data = data[new_column_order]"
   ]
  },
  {
   "cell_type": "code",
   "execution_count": 59,
   "id": "397bf74a-e994-4448-84b9-12582266c7ed",
   "metadata": {},
   "outputs": [],
   "source": [
    "data = data.dropna(axis=0)"
   ]
  },
  {
   "cell_type": "code",
   "execution_count": 60,
   "id": "2449dcfe-1ecc-4588-bb64-93e262074307",
   "metadata": {},
   "outputs": [
    {
     "data": {
      "text/html": [
       "<div>\n",
       "<style scoped>\n",
       "    .dataframe tbody tr th:only-of-type {\n",
       "        vertical-align: middle;\n",
       "    }\n",
       "\n",
       "    .dataframe tbody tr th {\n",
       "        vertical-align: top;\n",
       "    }\n",
       "\n",
       "    .dataframe thead th {\n",
       "        text-align: right;\n",
       "    }\n",
       "</style>\n",
       "<table border=\"1\" class=\"dataframe\">\n",
       "  <thead>\n",
       "    <tr style=\"text-align: right;\">\n",
       "      <th></th>\n",
       "      <th>date</th>\n",
       "      <th>sentiment</th>\n",
       "      <th>net_hawk</th>\n",
       "      <th>net_hawk_norm</th>\n",
       "      <th>net_hawk_stan</th>\n",
       "      <th>r</th>\n",
       "      <th>d_r</th>\n",
       "      <th>d_r_cat</th>\n",
       "      <th>d_r_cat_new</th>\n",
       "      <th>hicp</th>\n",
       "      <th>d_hicp</th>\n",
       "      <th>y</th>\n",
       "      <th>d_y</th>\n",
       "      <th>czk</th>\n",
       "      <th>d_czk</th>\n",
       "    </tr>\n",
       "  </thead>\n",
       "  <tbody>\n",
       "    <tr>\n",
       "      <th>0</th>\n",
       "      <td>1998-01-22</td>\n",
       "      <td>neutral</td>\n",
       "      <td>-0.836015</td>\n",
       "      <td>0.317285</td>\n",
       "      <td>-1.033886</td>\n",
       "      <td>0.0</td>\n",
       "      <td>0.00</td>\n",
       "      <td>2</td>\n",
       "      <td>1</td>\n",
       "      <td>12.1</td>\n",
       "      <td>2.7</td>\n",
       "      <td>-0.525706</td>\n",
       "      <td>-0.542201</td>\n",
       "      <td>38.099568</td>\n",
       "      <td>0.205362</td>\n",
       "    </tr>\n",
       "    <tr>\n",
       "      <th>1</th>\n",
       "      <td>1998-02-19</td>\n",
       "      <td>neutral</td>\n",
       "      <td>0.188282</td>\n",
       "      <td>0.536305</td>\n",
       "      <td>0.092121</td>\n",
       "      <td>0.0</td>\n",
       "      <td>0.00</td>\n",
       "      <td>2</td>\n",
       "      <td>1</td>\n",
       "      <td>12.4</td>\n",
       "      <td>0.3</td>\n",
       "      <td>-0.525706</td>\n",
       "      <td>-0.542201</td>\n",
       "      <td>37.092316</td>\n",
       "      <td>-0.205362</td>\n",
       "    </tr>\n",
       "    <tr>\n",
       "      <th>2</th>\n",
       "      <td>1998-03-19</td>\n",
       "      <td>neutral</td>\n",
       "      <td>1.333873</td>\n",
       "      <td>0.781260</td>\n",
       "      <td>1.351467</td>\n",
       "      <td>15.0</td>\n",
       "      <td>0.25</td>\n",
       "      <td>3</td>\n",
       "      <td>2</td>\n",
       "      <td>12.4</td>\n",
       "      <td>0.0</td>\n",
       "      <td>-0.525706</td>\n",
       "      <td>-0.542201</td>\n",
       "      <td>36.261088</td>\n",
       "      <td>-0.097791</td>\n",
       "    </tr>\n",
       "    <tr>\n",
       "      <th>3</th>\n",
       "      <td>1998-04-30</td>\n",
       "      <td>hawkish</td>\n",
       "      <td>0.291455</td>\n",
       "      <td>0.558366</td>\n",
       "      <td>0.205539</td>\n",
       "      <td>0.0</td>\n",
       "      <td>0.00</td>\n",
       "      <td>2</td>\n",
       "      <td>1</td>\n",
       "      <td>12.0</td>\n",
       "      <td>-0.4</td>\n",
       "      <td>-0.858134</td>\n",
       "      <td>-0.332427</td>\n",
       "      <td>36.045947</td>\n",
       "      <td>-0.078233</td>\n",
       "    </tr>\n",
       "    <tr>\n",
       "      <th>4</th>\n",
       "      <td>1998-05-28</td>\n",
       "      <td>neutral</td>\n",
       "      <td>0.295797</td>\n",
       "      <td>0.559294</td>\n",
       "      <td>0.210312</td>\n",
       "      <td>0.0</td>\n",
       "      <td>0.00</td>\n",
       "      <td>2</td>\n",
       "      <td>1</td>\n",
       "      <td>12.0</td>\n",
       "      <td>0.0</td>\n",
       "      <td>-0.858134</td>\n",
       "      <td>-0.332427</td>\n",
       "      <td>36.349101</td>\n",
       "      <td>0.625866</td>\n",
       "    </tr>\n",
       "  </tbody>\n",
       "</table>\n",
       "</div>"
      ],
      "text/plain": [
       "        date sentiment  net_hawk  net_hawk_norm  net_hawk_stan     r   d_r  \\\n",
       "0 1998-01-22   neutral -0.836015       0.317285      -1.033886   0.0  0.00   \n",
       "1 1998-02-19   neutral  0.188282       0.536305       0.092121   0.0  0.00   \n",
       "2 1998-03-19   neutral  1.333873       0.781260       1.351467  15.0  0.25   \n",
       "3 1998-04-30   hawkish  0.291455       0.558366       0.205539   0.0  0.00   \n",
       "4 1998-05-28   neutral  0.295797       0.559294       0.210312   0.0  0.00   \n",
       "\n",
       "   d_r_cat  d_r_cat_new  hicp  d_hicp         y       d_y        czk     d_czk  \n",
       "0        2            1  12.1     2.7 -0.525706 -0.542201  38.099568  0.205362  \n",
       "1        2            1  12.4     0.3 -0.525706 -0.542201  37.092316 -0.205362  \n",
       "2        3            2  12.4     0.0 -0.525706 -0.542201  36.261088 -0.097791  \n",
       "3        2            1  12.0    -0.4 -0.858134 -0.332427  36.045947 -0.078233  \n",
       "4        2            1  12.0     0.0 -0.858134 -0.332427  36.349101  0.625866  "
      ]
     },
     "execution_count": 60,
     "metadata": {},
     "output_type": "execute_result"
    }
   ],
   "source": [
    "data.head()"
   ]
  },
  {
   "cell_type": "code",
   "execution_count": 61,
   "id": "e2953ed2-7115-40d7-8d29-69bd822a4ac9",
   "metadata": {},
   "outputs": [],
   "source": [
    "data.to_csv(\"../../data/reg_data_cz.csv\", index=False)"
   ]
  },
  {
   "cell_type": "code",
   "execution_count": 62,
   "id": "620c4926-1bca-49cf-a8b8-f0b75798e0a3",
   "metadata": {},
   "outputs": [],
   "source": [
    "data[\"net_hawk_m1_p1\"] = 2 * ((data[\"net_hawk\"] - data[\"net_hawk\"].min()) / (data[\"net_hawk\"].max() - data[\"net_hawk\"].min())) - 1"
   ]
  },
  {
   "cell_type": "code",
   "execution_count": 63,
   "id": "ce605a0f-c36b-4e6a-905b-8bc18f706b10",
   "metadata": {},
   "outputs": [],
   "source": [
    "stata_data = pd.DataFrame({\n",
    "    \"PolChange_t1\": data[\"d_r_cat_new\"][1:].reset_index(drop=True),\n",
    "    \"PolChange_t\": data[\"d_r_cat_new\"][:-1].reset_index(drop=True),\n",
    "    \"NetHawk_stan\": data[\"net_hawk_stan\"][:-1].reset_index(drop=True),\n",
    "    \"sentiment\": data[\"sentiment\"][:-1].reset_index(drop=True),\n",
    "    \"dInf\": data[\"d_hicp\"][:-1].reset_index(drop=True),\n",
    "    \"dY\": data[\"d_y\"][:-1].reset_index(drop=True),\n",
    "    \"CZK\": data[\"czk\"][:-1].reset_index(drop=True),\n",
    "})"
   ]
  },
  {
   "cell_type": "code",
   "execution_count": 64,
   "id": "e25d1cb0-f88a-4851-bc5c-095bd9a75fdb",
   "metadata": {},
   "outputs": [],
   "source": [
    "stata_data.to_stata(\"../../data/stata_data.dta\")"
   ]
  }
 ],
 "metadata": {
  "kernelspec": {
   "display_name": "Python 3 (ipykernel)",
   "language": "python",
   "name": "python3"
  },
  "language_info": {
   "codemirror_mode": {
    "name": "ipython",
    "version": 3
   },
   "file_extension": ".py",
   "mimetype": "text/x-python",
   "name": "python",
   "nbconvert_exporter": "python",
   "pygments_lexer": "ipython3",
   "version": "3.11.5"
  }
 },
 "nbformat": 4,
 "nbformat_minor": 5
}
