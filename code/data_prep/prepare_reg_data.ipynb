{
 "cells": [
  {
   "cell_type": "markdown",
   "id": "9f47248c-1d8c-44b1-9cce-3d22f78ebf82",
   "metadata": {},
   "source": [
    "# Data preparation for regression analysis"
   ]
  },
  {
   "cell_type": "markdown",
   "id": "1b1879e6-6a75-41ae-a879-07ec2f879829",
   "metadata": {},
   "source": [
    "## 1. Import packages"
   ]
  },
  {
   "cell_type": "code",
   "execution_count": 1,
   "id": "be090d7d-13b3-417f-9d69-2f6e4955caa9",
   "metadata": {},
   "outputs": [],
   "source": [
    "import pandas as pd\n",
    "import numpy as np\n",
    "from datetime import timedelta"
   ]
  },
  {
   "cell_type": "markdown",
   "id": "fcb56f56-368a-4662-aad2-9a4f6044db0f",
   "metadata": {},
   "source": [
    "## 2. Load data and create individual data frames"
   ]
  },
  {
   "cell_type": "markdown",
   "id": "a04bd025-d85e-4baf-b15b-dfeb2e71b7ae",
   "metadata": {},
   "source": [
    "### 2.1 2-week repo rate"
   ]
  },
  {
   "cell_type": "code",
   "execution_count": 2,
   "id": "244ba00d-fe39-4383-a1ef-465a18b9fb57",
   "metadata": {},
   "outputs": [],
   "source": [
    "repo_rate = pd.read_csv(\"../../data/cnb_repo.txt\", sep=\"|\")"
   ]
  },
  {
   "cell_type": "code",
   "execution_count": 3,
   "id": "2abb1658-fad3-4e9c-986c-63632087d1b3",
   "metadata": {},
   "outputs": [],
   "source": [
    "repo_rate[\"VALID_FROM\"] = pd.to_datetime(repo_rate[\"VALID_FROM\"], format=\"%Y%m%d\")"
   ]
  },
  {
   "cell_type": "code",
   "execution_count": 4,
   "id": "196e8288-17af-4717-b5b6-43ac38b2e754",
   "metadata": {},
   "outputs": [],
   "source": [
    "repo_rate = repo_rate.rename(columns={\"VALID_FROM\": \"date\", \"CNB_REPO_RATE_IN_%\": \"r\"})"
   ]
  },
  {
   "cell_type": "code",
   "execution_count": 5,
   "id": "a9be357b-b1cf-45a5-86f5-5c0dd66d3123",
   "metadata": {},
   "outputs": [],
   "source": [
    "repo_rate = repo_rate[repo_rate[\"date\"] >= \"1998-01-22\"]"
   ]
  },
  {
   "cell_type": "code",
   "execution_count": 6,
   "id": "fc37b2ab-e880-4b2e-96ae-95af6145a3f0",
   "metadata": {},
   "outputs": [],
   "source": [
    "repo_rate[\"delta_r\"] = repo_rate[\"r\"].diff()"
   ]
  },
  {
   "cell_type": "code",
   "execution_count": 7,
   "id": "5ab71d12-310a-4d81-973b-5743f4aaccde",
   "metadata": {},
   "outputs": [
    {
     "data": {
      "text/html": [
       "<div>\n",
       "<style scoped>\n",
       "    .dataframe tbody tr th:only-of-type {\n",
       "        vertical-align: middle;\n",
       "    }\n",
       "\n",
       "    .dataframe tbody tr th {\n",
       "        vertical-align: top;\n",
       "    }\n",
       "\n",
       "    .dataframe thead th {\n",
       "        text-align: right;\n",
       "    }\n",
       "</style>\n",
       "<table border=\"1\" class=\"dataframe\">\n",
       "  <thead>\n",
       "    <tr style=\"text-align: right;\">\n",
       "      <th></th>\n",
       "      <th>date</th>\n",
       "      <th>r</th>\n",
       "      <th>delta_r</th>\n",
       "    </tr>\n",
       "  </thead>\n",
       "  <tbody>\n",
       "    <tr>\n",
       "      <th>31</th>\n",
       "      <td>1998-03-20</td>\n",
       "      <td>15.0</td>\n",
       "      <td>NaN</td>\n",
       "    </tr>\n",
       "    <tr>\n",
       "      <th>32</th>\n",
       "      <td>1998-07-17</td>\n",
       "      <td>14.5</td>\n",
       "      <td>-0.5</td>\n",
       "    </tr>\n",
       "    <tr>\n",
       "      <th>33</th>\n",
       "      <td>1998-08-14</td>\n",
       "      <td>14.0</td>\n",
       "      <td>-0.5</td>\n",
       "    </tr>\n",
       "    <tr>\n",
       "      <th>34</th>\n",
       "      <td>1998-09-25</td>\n",
       "      <td>13.5</td>\n",
       "      <td>-0.5</td>\n",
       "    </tr>\n",
       "    <tr>\n",
       "      <th>35</th>\n",
       "      <td>1998-10-27</td>\n",
       "      <td>12.5</td>\n",
       "      <td>-1.0</td>\n",
       "    </tr>\n",
       "  </tbody>\n",
       "</table>\n",
       "</div>"
      ],
      "text/plain": [
       "         date     r  delta_r\n",
       "31 1998-03-20  15.0      NaN\n",
       "32 1998-07-17  14.5     -0.5\n",
       "33 1998-08-14  14.0     -0.5\n",
       "34 1998-09-25  13.5     -0.5\n",
       "35 1998-10-27  12.5     -1.0"
      ]
     },
     "execution_count": 7,
     "metadata": {},
     "output_type": "execute_result"
    }
   ],
   "source": [
    "repo_rate.head()"
   ]
  },
  {
   "cell_type": "markdown",
   "id": "b4d93953-482e-4684-b969-d40aca482ec7",
   "metadata": {},
   "source": [
    "### Sentiments"
   ]
  },
  {
   "cell_type": "code",
   "execution_count": 8,
   "id": "64f2c475-c722-4235-b501-d09bf1e4d743",
   "metadata": {},
   "outputs": [],
   "source": [
    "sentiments = pd.read_csv(\n",
    "    \"../../predictions/sentiment_predictions.tsv\", sep=\"\\t\", header=0, names=[\"date\", \"sentiment\", \"hawk_pref_score\"]\n",
    ")"
   ]
  },
  {
   "cell_type": "code",
   "execution_count": 9,
   "id": "99d0df30-9cf1-43c7-8b82-c567b210a360",
   "metadata": {},
   "outputs": [],
   "source": [
    "dates = sentiments[\"date\"].str.split(\".\")"
   ]
  },
  {
   "cell_type": "code",
   "execution_count": 10,
   "id": "34427af9-2194-4c05-bc82-04392685d6e3",
   "metadata": {},
   "outputs": [],
   "source": [
    "sentiments[\"date\"] = dates.apply(lambda x: x[0])"
   ]
  },
  {
   "cell_type": "code",
   "execution_count": 11,
   "id": "6979588f-f007-4a98-bfb7-290ea80579ed",
   "metadata": {},
   "outputs": [],
   "source": [
    "sentiments[\"date\"] = pd.to_datetime(sentiments[\"date\"], format=\"%Y%m%d\")"
   ]
  },
  {
   "cell_type": "code",
   "execution_count": 12,
   "id": "9e84beaa-2f6e-4c39-9f66-9cc4bfca4020",
   "metadata": {},
   "outputs": [
    {
     "data": {
      "text/html": [
       "<div>\n",
       "<style scoped>\n",
       "    .dataframe tbody tr th:only-of-type {\n",
       "        vertical-align: middle;\n",
       "    }\n",
       "\n",
       "    .dataframe tbody tr th {\n",
       "        vertical-align: top;\n",
       "    }\n",
       "\n",
       "    .dataframe thead th {\n",
       "        text-align: right;\n",
       "    }\n",
       "</style>\n",
       "<table border=\"1\" class=\"dataframe\">\n",
       "  <thead>\n",
       "    <tr style=\"text-align: right;\">\n",
       "      <th></th>\n",
       "      <th>date</th>\n",
       "      <th>sentiment</th>\n",
       "      <th>hawk_pref_score</th>\n",
       "    </tr>\n",
       "  </thead>\n",
       "  <tbody>\n",
       "    <tr>\n",
       "      <th>0</th>\n",
       "      <td>1998-01-22</td>\n",
       "      <td>neutral</td>\n",
       "      <td>-0.661030</td>\n",
       "    </tr>\n",
       "    <tr>\n",
       "      <th>1</th>\n",
       "      <td>1998-02-19</td>\n",
       "      <td>neutral</td>\n",
       "      <td>0.540458</td>\n",
       "    </tr>\n",
       "    <tr>\n",
       "      <th>2</th>\n",
       "      <td>1998-03-19</td>\n",
       "      <td>neutral</td>\n",
       "      <td>1.018434</td>\n",
       "    </tr>\n",
       "    <tr>\n",
       "      <th>3</th>\n",
       "      <td>1998-04-30</td>\n",
       "      <td>hawkish</td>\n",
       "      <td>0.194856</td>\n",
       "    </tr>\n",
       "    <tr>\n",
       "      <th>4</th>\n",
       "      <td>1998-05-28</td>\n",
       "      <td>neutral</td>\n",
       "      <td>0.082861</td>\n",
       "    </tr>\n",
       "  </tbody>\n",
       "</table>\n",
       "</div>"
      ],
      "text/plain": [
       "        date sentiment  hawk_pref_score\n",
       "0 1998-01-22   neutral        -0.661030\n",
       "1 1998-02-19   neutral         0.540458\n",
       "2 1998-03-19   neutral         1.018434\n",
       "3 1998-04-30   hawkish         0.194856\n",
       "4 1998-05-28   neutral         0.082861"
      ]
     },
     "execution_count": 12,
     "metadata": {},
     "output_type": "execute_result"
    }
   ],
   "source": [
    "sentiments.head()"
   ]
  },
  {
   "cell_type": "markdown",
   "id": "a1eb4b72-5fe3-4367-a02b-d1dfe97b9f02",
   "metadata": {},
   "source": [
    "### Voting records"
   ]
  },
  {
   "cell_type": "markdown",
   "id": "96d5b1da-3a6b-43b7-9734-269ff09a52b5",
   "metadata": {},
   "source": [
    "Here, I am computing disagreement as the standard deviation of suggested policy rate changes among board members."
   ]
  },
  {
   "cell_type": "code",
   "execution_count": 13,
   "id": "b71839a2-7441-4ab1-9eb0-920f0eb3e997",
   "metadata": {},
   "outputs": [],
   "source": [
    "votings = pd.read_excel(\"../../data/voting_of_the_bank_board.xlsx\", sheet_name=\"1998-2024\", header=None)"
   ]
  },
  {
   "cell_type": "code",
   "execution_count": 14,
   "id": "b4ee22e3-af22-450a-9ae5-6691daf283fc",
   "metadata": {},
   "outputs": [],
   "source": [
    "votings = votings.T"
   ]
  },
  {
   "cell_type": "code",
   "execution_count": 15,
   "id": "ce0c66f4-dffd-4600-9e26-d4702953dbf1",
   "metadata": {},
   "outputs": [
    {
     "name": "stderr",
     "output_type": "stream",
     "text": [
      "/var/folders/n4/k1wgly0j7nx3d42shbk1b3bh0000gn/T/ipykernel_6732/1322423382.py:1: FutureWarning: Series.fillna with 'method' is deprecated and will raise in a future version. Use obj.ffill() or obj.bfill() instead.\n",
      "  votings[0] = votings[0].fillna(method=\"ffill\")\n",
      "/var/folders/n4/k1wgly0j7nx3d42shbk1b3bh0000gn/T/ipykernel_6732/1322423382.py:1: FutureWarning: Downcasting object dtype arrays on .fillna, .ffill, .bfill is deprecated and will change in a future version. Call result.infer_objects(copy=False) instead. To opt-in to the future behavior, set `pd.set_option('future.no_silent_downcasting', True)`\n",
      "  votings[0] = votings[0].fillna(method=\"ffill\")\n"
     ]
    }
   ],
   "source": [
    "votings[0] = votings[0].fillna(method=\"ffill\")"
   ]
  },
  {
   "cell_type": "code",
   "execution_count": 16,
   "id": "0d578eb7-035b-4da6-8102-5677c551d8f8",
   "metadata": {},
   "outputs": [],
   "source": [
    "votings.columns = [\"year\", \"day_month\"] + votings.iloc[0, 2:].to_list()"
   ]
  },
  {
   "cell_type": "code",
   "execution_count": 17,
   "id": "b34718ca-510b-4022-91ad-bb526f1dbc0b",
   "metadata": {},
   "outputs": [],
   "source": [
    "votings = votings.drop(0, axis=0)"
   ]
  },
  {
   "cell_type": "code",
   "execution_count": 18,
   "id": "65f23e82-7b7a-4865-8b07-e1309bf26965",
   "metadata": {},
   "outputs": [],
   "source": [
    "votings[\"year\"] = votings[\"year\"].astype(int).astype(str)"
   ]
  },
  {
   "cell_type": "code",
   "execution_count": 19,
   "id": "39155c57-df39-414e-9b6f-ee8b2abc0479",
   "metadata": {},
   "outputs": [],
   "source": [
    "votings[\"date\"] = votings[\"day_month\"].str.strip() + votings[\"year\"].str.strip()"
   ]
  },
  {
   "cell_type": "code",
   "execution_count": 20,
   "id": "dd3c2c86-2cb9-4ca8-9bf7-0e28b064eda0",
   "metadata": {},
   "outputs": [],
   "source": [
    "votings[\"date\"] = pd.to_datetime(votings[\"date\"], format=\"%d.%m.%Y\")"
   ]
  },
  {
   "cell_type": "code",
   "execution_count": 21,
   "id": "532c88d5-a92f-44e9-a2a8-8d9467ef478c",
   "metadata": {},
   "outputs": [],
   "source": [
    "votings = votings.drop([\"year\", \"day_month\"], axis=1)"
   ]
  },
  {
   "cell_type": "code",
   "execution_count": 22,
   "id": "adb47ca8-534b-4acd-afe4-06e0e72744a9",
   "metadata": {},
   "outputs": [
    {
     "name": "stderr",
     "output_type": "stream",
     "text": [
      "/var/folders/n4/k1wgly0j7nx3d42shbk1b3bh0000gn/T/ipykernel_6732/1463594509.py:1: FutureWarning: Downcasting behavior in `replace` is deprecated and will be removed in a future version. To retain the old behavior, explicitly call `result.infer_objects(copy=False)`. To opt-in to the future behavior, set `pd.set_option('future.no_silent_downcasting', True)`\n",
      "  votings = votings.replace(\"o\", np.nan).replace(\" \", np.nan)\n"
     ]
    }
   ],
   "source": [
    "votings = votings.replace(\"o\", np.nan).replace(\" \", np.nan)"
   ]
  },
  {
   "cell_type": "code",
   "execution_count": 23,
   "id": "657cf917-2646-4f1d-b0f8-bb7917eb4633",
   "metadata": {},
   "outputs": [],
   "source": [
    "votings[\"disagreement\"] = votings.drop(\"date\", axis=1).var(axis=1)"
   ]
  },
  {
   "cell_type": "code",
   "execution_count": 24,
   "id": "49f91e38-473e-4954-8aab-4f7851b856af",
   "metadata": {},
   "outputs": [],
   "source": [
    "votings[\"disagreement\"] = votings[\"disagreement\"].replace(np.nan, 0)"
   ]
  },
  {
   "cell_type": "code",
   "execution_count": 25,
   "id": "49ed03d4-2ed2-4976-aecc-2103df6a486f",
   "metadata": {},
   "outputs": [],
   "source": [
    "votings = votings.drop(columns=[col for col in votings.columns if col not in [\"date\", \"disagreement\"]])"
   ]
  },
  {
   "cell_type": "code",
   "execution_count": 26,
   "id": "a3ebc80b-42b1-407e-b95c-4a1d00bca074",
   "metadata": {},
   "outputs": [],
   "source": [
    "votings = votings[votings[\"date\"] <= \"2024-09-25\"]"
   ]
  },
  {
   "cell_type": "code",
   "execution_count": 27,
   "id": "cff83b2e-e7ac-4570-8f1e-e1f576c5e0d2",
   "metadata": {},
   "outputs": [
    {
     "data": {
      "text/html": [
       "<div>\n",
       "<style scoped>\n",
       "    .dataframe tbody tr th:only-of-type {\n",
       "        vertical-align: middle;\n",
       "    }\n",
       "\n",
       "    .dataframe tbody tr th {\n",
       "        vertical-align: top;\n",
       "    }\n",
       "\n",
       "    .dataframe thead th {\n",
       "        text-align: right;\n",
       "    }\n",
       "</style>\n",
       "<table border=\"1\" class=\"dataframe\">\n",
       "  <thead>\n",
       "    <tr style=\"text-align: right;\">\n",
       "      <th></th>\n",
       "      <th>date</th>\n",
       "      <th>disagreement</th>\n",
       "    </tr>\n",
       "  </thead>\n",
       "  <tbody>\n",
       "    <tr>\n",
       "      <th>1</th>\n",
       "      <td>1998-01-22</td>\n",
       "      <td>0.000</td>\n",
       "    </tr>\n",
       "    <tr>\n",
       "      <th>2</th>\n",
       "      <td>1998-02-19</td>\n",
       "      <td>0.000</td>\n",
       "    </tr>\n",
       "    <tr>\n",
       "      <th>3</th>\n",
       "      <td>1998-03-19</td>\n",
       "      <td>0.075</td>\n",
       "    </tr>\n",
       "    <tr>\n",
       "      <th>4</th>\n",
       "      <td>1998-04-30</td>\n",
       "      <td>0.000</td>\n",
       "    </tr>\n",
       "    <tr>\n",
       "      <th>5</th>\n",
       "      <td>1998-05-28</td>\n",
       "      <td>0.000</td>\n",
       "    </tr>\n",
       "  </tbody>\n",
       "</table>\n",
       "</div>"
      ],
      "text/plain": [
       "        date  disagreement\n",
       "1 1998-01-22         0.000\n",
       "2 1998-02-19         0.000\n",
       "3 1998-03-19         0.075\n",
       "4 1998-04-30         0.000\n",
       "5 1998-05-28         0.000"
      ]
     },
     "execution_count": 27,
     "metadata": {},
     "output_type": "execute_result"
    }
   ],
   "source": [
    "votings.head()"
   ]
  },
  {
   "cell_type": "markdown",
   "id": "1b4afad0-bf85-475f-beac-c6dc9cef9787",
   "metadata": {},
   "source": [
    "### Inflation rate"
   ]
  },
  {
   "cell_type": "markdown",
   "id": "8771636b-eac8-4e1a-87b0-76bf3788da40",
   "metadata": {},
   "source": [
    "HICP for the CZ from the ECB: https://tinyurl.com/bdyn72sk [retrieved: 19.10.2024]"
   ]
  },
  {
   "cell_type": "code",
   "execution_count": 28,
   "id": "3c914282-7d40-4845-89e5-290f5eb871b6",
   "metadata": {},
   "outputs": [],
   "source": [
    "inflation = pd.read_csv(\n",
    "    \"../../data/hicp_cz_monthly.csv\", header=0, usecols=[\"DATE\", \"HICP - Overall index (ICP.M.CZ.N.000000.4.ANR)\"]\n",
    ")"
   ]
  },
  {
   "cell_type": "code",
   "execution_count": 29,
   "id": "4fd787af-183e-484c-b5bb-75edee9133a3",
   "metadata": {},
   "outputs": [],
   "source": [
    "inflation.columns = [\"date\", \"hicp\"]"
   ]
  },
  {
   "cell_type": "code",
   "execution_count": 30,
   "id": "e7188cd7-6a37-498b-b700-39237bae2559",
   "metadata": {},
   "outputs": [],
   "source": [
    "inflation = inflation[inflation[\"date\"] >= \"1998-01-01\"]"
   ]
  },
  {
   "cell_type": "code",
   "execution_count": 31,
   "id": "21a979a1-9e2e-4ae0-957b-5c2cacbacbab",
   "metadata": {},
   "outputs": [],
   "source": [
    "inflation[\"date\"] = pd.to_datetime(inflation[\"date\"])"
   ]
  },
  {
   "cell_type": "code",
   "execution_count": 32,
   "id": "fbf7f24c-eea3-4234-b5fc-e3959c99d763",
   "metadata": {},
   "outputs": [
    {
     "data": {
      "text/html": [
       "<div>\n",
       "<style scoped>\n",
       "    .dataframe tbody tr th:only-of-type {\n",
       "        vertical-align: middle;\n",
       "    }\n",
       "\n",
       "    .dataframe tbody tr th {\n",
       "        vertical-align: top;\n",
       "    }\n",
       "\n",
       "    .dataframe thead th {\n",
       "        text-align: right;\n",
       "    }\n",
       "</style>\n",
       "<table border=\"1\" class=\"dataframe\">\n",
       "  <thead>\n",
       "    <tr style=\"text-align: right;\">\n",
       "      <th></th>\n",
       "      <th>date</th>\n",
       "      <th>hicp</th>\n",
       "    </tr>\n",
       "  </thead>\n",
       "  <tbody>\n",
       "    <tr>\n",
       "      <th>24</th>\n",
       "      <td>1998-01-31</td>\n",
       "      <td>12.1</td>\n",
       "    </tr>\n",
       "    <tr>\n",
       "      <th>25</th>\n",
       "      <td>1998-02-28</td>\n",
       "      <td>12.4</td>\n",
       "    </tr>\n",
       "    <tr>\n",
       "      <th>26</th>\n",
       "      <td>1998-03-31</td>\n",
       "      <td>12.4</td>\n",
       "    </tr>\n",
       "    <tr>\n",
       "      <th>27</th>\n",
       "      <td>1998-04-30</td>\n",
       "      <td>12.0</td>\n",
       "    </tr>\n",
       "    <tr>\n",
       "      <th>28</th>\n",
       "      <td>1998-05-31</td>\n",
       "      <td>12.0</td>\n",
       "    </tr>\n",
       "  </tbody>\n",
       "</table>\n",
       "</div>"
      ],
      "text/plain": [
       "         date  hicp\n",
       "24 1998-01-31  12.1\n",
       "25 1998-02-28  12.4\n",
       "26 1998-03-31  12.4\n",
       "27 1998-04-30  12.0\n",
       "28 1998-05-31  12.0"
      ]
     },
     "execution_count": 32,
     "metadata": {},
     "output_type": "execute_result"
    }
   ],
   "source": [
    "inflation.head()"
   ]
  },
  {
   "cell_type": "markdown",
   "id": "441c784b-99d3-428c-859a-eda8accc08cd",
   "metadata": {},
   "source": [
    "## 3. Merge dataframes and export finished dataframe as csv"
   ]
  },
  {
   "cell_type": "code",
   "execution_count": 33,
   "id": "813f1c06-d7e2-4350-bd26-20541fb9cffd",
   "metadata": {},
   "outputs": [],
   "source": [
    "def bin(x):\n",
    "    if x > 0:\n",
    "        return 1\n",
    "    elif x < 0:\n",
    "        return -1\n",
    "    else:\n",
    "        return 0"
   ]
  },
  {
   "cell_type": "code",
   "execution_count": 34,
   "id": "deb49dca-ae72-43f4-be14-585268faa240",
   "metadata": {},
   "outputs": [],
   "source": [
    "sentiment_votings = pd.merge(sentiments, votings, how=\"left\", on=\"date\")"
   ]
  },
  {
   "cell_type": "code",
   "execution_count": 35,
   "id": "d0fcae91-9f1c-4e26-9b08-b098d5d780d0",
   "metadata": {},
   "outputs": [],
   "source": [
    "sentiment_votings = sentiment_votings.sort_values(\"date\")"
   ]
  },
  {
   "cell_type": "code",
   "execution_count": 36,
   "id": "50ce38ab-d744-4383-9df9-b0f29d42b33b",
   "metadata": {},
   "outputs": [],
   "source": [
    "repo_rate = repo_rate.sort_values(\"date\")"
   ]
  },
  {
   "cell_type": "code",
   "execution_count": 37,
   "id": "d8344eb0-4860-4e59-84d9-30d896a6872e",
   "metadata": {},
   "outputs": [],
   "source": [
    "# Possibly change to direction=\"forward\"!!\n",
    "svrr = pd.merge_asof(\n",
    "    sentiment_votings, \n",
    "    repo_rate, \n",
    "    on=\"date\", \n",
    "    direction=\"forward\",\n",
    "    tolerance=pd.Timedelta(days=7)\n",
    ")"
   ]
  },
  {
   "cell_type": "code",
   "execution_count": 38,
   "id": "1a58e283-91a1-48c4-95b7-8b643f638933",
   "metadata": {},
   "outputs": [],
   "source": [
    "svrr = svrr.fillna(0)"
   ]
  },
  {
   "cell_type": "code",
   "execution_count": 39,
   "id": "b9fdee63-9dec-4348-9cd2-c5ca8e7faf6d",
   "metadata": {},
   "outputs": [],
   "source": [
    "svrr[\"delta_r_cat\"] = svrr[\"delta_r\"].apply(lambda x: bin(x))"
   ]
  },
  {
   "cell_type": "code",
   "execution_count": 40,
   "id": "ec11921a-e3c4-404d-bb0d-4b5cd3a37624",
   "metadata": {},
   "outputs": [],
   "source": [
    "data = pd.merge_asof(\n",
    "    svrr,\n",
    "    inflation,\n",
    "    on=\"date\",\n",
    "    direction=\"nearest\",\n",
    "    tolerance=pd.Timedelta(days=16)\n",
    ")"
   ]
  },
  {
   "cell_type": "code",
   "execution_count": 41,
   "id": "82d2841c-db94-4e28-9b32-91f17019d315",
   "metadata": {},
   "outputs": [
    {
     "data": {
      "text/html": [
       "<div>\n",
       "<style scoped>\n",
       "    .dataframe tbody tr th:only-of-type {\n",
       "        vertical-align: middle;\n",
       "    }\n",
       "\n",
       "    .dataframe tbody tr th {\n",
       "        vertical-align: top;\n",
       "    }\n",
       "\n",
       "    .dataframe thead th {\n",
       "        text-align: right;\n",
       "    }\n",
       "</style>\n",
       "<table border=\"1\" class=\"dataframe\">\n",
       "  <thead>\n",
       "    <tr style=\"text-align: right;\">\n",
       "      <th></th>\n",
       "      <th>date</th>\n",
       "      <th>sentiment</th>\n",
       "      <th>hawk_pref_score</th>\n",
       "      <th>disagreement</th>\n",
       "      <th>r</th>\n",
       "      <th>delta_r</th>\n",
       "      <th>delta_r_cat</th>\n",
       "      <th>hicp</th>\n",
       "    </tr>\n",
       "  </thead>\n",
       "  <tbody>\n",
       "    <tr>\n",
       "      <th>0</th>\n",
       "      <td>1998-01-22</td>\n",
       "      <td>neutral</td>\n",
       "      <td>-0.661030</td>\n",
       "      <td>0.000000</td>\n",
       "      <td>0.00</td>\n",
       "      <td>0.00</td>\n",
       "      <td>0</td>\n",
       "      <td>12.1</td>\n",
       "    </tr>\n",
       "    <tr>\n",
       "      <th>1</th>\n",
       "      <td>1998-02-19</td>\n",
       "      <td>neutral</td>\n",
       "      <td>0.540458</td>\n",
       "      <td>0.000000</td>\n",
       "      <td>0.00</td>\n",
       "      <td>0.00</td>\n",
       "      <td>0</td>\n",
       "      <td>12.4</td>\n",
       "    </tr>\n",
       "    <tr>\n",
       "      <th>2</th>\n",
       "      <td>1998-03-19</td>\n",
       "      <td>neutral</td>\n",
       "      <td>1.018434</td>\n",
       "      <td>0.075000</td>\n",
       "      <td>15.00</td>\n",
       "      <td>0.00</td>\n",
       "      <td>0</td>\n",
       "      <td>12.4</td>\n",
       "    </tr>\n",
       "    <tr>\n",
       "      <th>3</th>\n",
       "      <td>1998-04-30</td>\n",
       "      <td>hawkish</td>\n",
       "      <td>0.194856</td>\n",
       "      <td>0.000000</td>\n",
       "      <td>0.00</td>\n",
       "      <td>0.00</td>\n",
       "      <td>0</td>\n",
       "      <td>12.0</td>\n",
       "    </tr>\n",
       "    <tr>\n",
       "      <th>4</th>\n",
       "      <td>1998-05-28</td>\n",
       "      <td>neutral</td>\n",
       "      <td>0.082861</td>\n",
       "      <td>0.000000</td>\n",
       "      <td>0.00</td>\n",
       "      <td>0.00</td>\n",
       "      <td>0</td>\n",
       "      <td>12.0</td>\n",
       "    </tr>\n",
       "    <tr>\n",
       "      <th>...</th>\n",
       "      <td>...</td>\n",
       "      <td>...</td>\n",
       "      <td>...</td>\n",
       "      <td>...</td>\n",
       "      <td>...</td>\n",
       "      <td>...</td>\n",
       "      <td>...</td>\n",
       "      <td>...</td>\n",
       "    </tr>\n",
       "    <tr>\n",
       "      <th>260</th>\n",
       "      <td>2024-03-20</td>\n",
       "      <td>neutral</td>\n",
       "      <td>-0.639292</td>\n",
       "      <td>0.014881</td>\n",
       "      <td>5.75</td>\n",
       "      <td>-0.50</td>\n",
       "      <td>-1</td>\n",
       "      <td>2.2</td>\n",
       "    </tr>\n",
       "    <tr>\n",
       "      <th>261</th>\n",
       "      <td>2024-05-02</td>\n",
       "      <td>neutral</td>\n",
       "      <td>0.767536</td>\n",
       "      <td>0.000000</td>\n",
       "      <td>5.25</td>\n",
       "      <td>-0.50</td>\n",
       "      <td>-1</td>\n",
       "      <td>3.1</td>\n",
       "    </tr>\n",
       "    <tr>\n",
       "      <th>262</th>\n",
       "      <td>2024-06-27</td>\n",
       "      <td>dovish</td>\n",
       "      <td>-0.091087</td>\n",
       "      <td>0.014881</td>\n",
       "      <td>4.75</td>\n",
       "      <td>-0.50</td>\n",
       "      <td>-1</td>\n",
       "      <td>2.2</td>\n",
       "    </tr>\n",
       "    <tr>\n",
       "      <th>263</th>\n",
       "      <td>2024-08-01</td>\n",
       "      <td>dovish</td>\n",
       "      <td>0.399827</td>\n",
       "      <td>0.000000</td>\n",
       "      <td>4.50</td>\n",
       "      <td>-0.25</td>\n",
       "      <td>-1</td>\n",
       "      <td>2.5</td>\n",
       "    </tr>\n",
       "    <tr>\n",
       "      <th>264</th>\n",
       "      <td>2024-09-25</td>\n",
       "      <td>dovish</td>\n",
       "      <td>-0.841094</td>\n",
       "      <td>0.000000</td>\n",
       "      <td>4.25</td>\n",
       "      <td>-0.25</td>\n",
       "      <td>-1</td>\n",
       "      <td>2.8</td>\n",
       "    </tr>\n",
       "  </tbody>\n",
       "</table>\n",
       "<p>265 rows × 8 columns</p>\n",
       "</div>"
      ],
      "text/plain": [
       "          date sentiment  hawk_pref_score  disagreement      r  delta_r  \\\n",
       "0   1998-01-22   neutral        -0.661030      0.000000   0.00     0.00   \n",
       "1   1998-02-19   neutral         0.540458      0.000000   0.00     0.00   \n",
       "2   1998-03-19   neutral         1.018434      0.075000  15.00     0.00   \n",
       "3   1998-04-30   hawkish         0.194856      0.000000   0.00     0.00   \n",
       "4   1998-05-28   neutral         0.082861      0.000000   0.00     0.00   \n",
       "..         ...       ...              ...           ...    ...      ...   \n",
       "260 2024-03-20   neutral        -0.639292      0.014881   5.75    -0.50   \n",
       "261 2024-05-02   neutral         0.767536      0.000000   5.25    -0.50   \n",
       "262 2024-06-27    dovish        -0.091087      0.014881   4.75    -0.50   \n",
       "263 2024-08-01    dovish         0.399827      0.000000   4.50    -0.25   \n",
       "264 2024-09-25    dovish        -0.841094      0.000000   4.25    -0.25   \n",
       "\n",
       "     delta_r_cat  hicp  \n",
       "0              0  12.1  \n",
       "1              0  12.4  \n",
       "2              0  12.4  \n",
       "3              0  12.0  \n",
       "4              0  12.0  \n",
       "..           ...   ...  \n",
       "260           -1   2.2  \n",
       "261           -1   3.1  \n",
       "262           -1   2.2  \n",
       "263           -1   2.5  \n",
       "264           -1   2.8  \n",
       "\n",
       "[265 rows x 8 columns]"
      ]
     },
     "execution_count": 41,
     "metadata": {},
     "output_type": "execute_result"
    }
   ],
   "source": [
    "data"
   ]
  },
  {
   "cell_type": "code",
   "execution_count": 42,
   "id": "e2953ed2-7115-40d7-8d29-69bd822a4ac9",
   "metadata": {},
   "outputs": [],
   "source": [
    "data.to_csv(\"../../data/reg_data_cz.csv\", index=False)"
   ]
  }
 ],
 "metadata": {
  "kernelspec": {
   "display_name": "Python 3 (ipykernel)",
   "language": "python",
   "name": "python3"
  },
  "language_info": {
   "codemirror_mode": {
    "name": "ipython",
    "version": 3
   },
   "file_extension": ".py",
   "mimetype": "text/x-python",
   "name": "python",
   "nbconvert_exporter": "python",
   "pygments_lexer": "ipython3",
   "version": "3.11.5"
  }
 },
 "nbformat": 4,
 "nbformat_minor": 5
}
