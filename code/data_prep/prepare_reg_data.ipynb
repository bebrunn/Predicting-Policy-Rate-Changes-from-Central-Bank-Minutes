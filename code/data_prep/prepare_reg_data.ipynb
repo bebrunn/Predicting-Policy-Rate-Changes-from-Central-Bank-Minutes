{
 "cells": [
  {
   "cell_type": "markdown",
   "id": "9f47248c-1d8c-44b1-9cce-3d22f78ebf82",
   "metadata": {},
   "source": [
    "# Prepare data for regression analysis"
   ]
  },
  {
   "cell_type": "code",
   "execution_count": 10,
   "id": "be090d7d-13b3-417f-9d69-2f6e4955caa9",
   "metadata": {},
   "outputs": [],
   "source": [
    "import pandas as pd"
   ]
  },
  {
   "cell_type": "code",
   "execution_count": 43,
   "id": "b0a2aebd-6aa2-41cc-86bc-c5e1a31e0c96",
   "metadata": {},
   "outputs": [],
   "source": [
    "path = \"/Users/bernhardbrunner/Desktop/masters_thesis/data/cnb_repo.txt\""
   ]
  },
  {
   "cell_type": "code",
   "execution_count": 44,
   "id": "244ba00d-fe39-4383-a1ef-465a18b9fb57",
   "metadata": {},
   "outputs": [],
   "source": [
    "repo = pd.read_csv(path, sep=\"|\")"
   ]
  },
  {
   "cell_type": "code",
   "execution_count": 45,
   "id": "2abb1658-fad3-4e9c-986c-63632087d1b3",
   "metadata": {},
   "outputs": [],
   "source": [
    "repo[\"VALID_FROM\"] = pd.to_datetime(repo[\"VALID_FROM\"], format=\"%Y%m%d\")"
   ]
  },
  {
   "cell_type": "code",
   "execution_count": 46,
   "id": "3d498a56-de43-449b-b2e9-bebd676c15b7",
   "metadata": {},
   "outputs": [],
   "source": [
    "repo[\"rate_change\"] = repo[\"CNB_REPO_RATE_IN_%\"].diff()"
   ]
  },
  {
   "cell_type": "code",
   "execution_count": 47,
   "id": "d4fb10d8-56fd-4196-bae9-e090dcd0d512",
   "metadata": {},
   "outputs": [
    {
     "data": {
      "text/html": [
       "<div>\n",
       "<style scoped>\n",
       "    .dataframe tbody tr th:only-of-type {\n",
       "        vertical-align: middle;\n",
       "    }\n",
       "\n",
       "    .dataframe tbody tr th {\n",
       "        vertical-align: top;\n",
       "    }\n",
       "\n",
       "    .dataframe thead th {\n",
       "        text-align: right;\n",
       "    }\n",
       "</style>\n",
       "<table border=\"1\" class=\"dataframe\">\n",
       "  <thead>\n",
       "    <tr style=\"text-align: right;\">\n",
       "      <th></th>\n",
       "      <th>VALID_FROM</th>\n",
       "      <th>CNB_REPO_RATE_IN_%</th>\n",
       "      <th>rate_change</th>\n",
       "    </tr>\n",
       "  </thead>\n",
       "  <tbody>\n",
       "    <tr>\n",
       "      <th>0</th>\n",
       "      <td>1995-12-08</td>\n",
       "      <td>11.30</td>\n",
       "      <td>NaN</td>\n",
       "    </tr>\n",
       "    <tr>\n",
       "      <th>1</th>\n",
       "      <td>1996-03-29</td>\n",
       "      <td>11.50</td>\n",
       "      <td>0.20</td>\n",
       "    </tr>\n",
       "    <tr>\n",
       "      <th>2</th>\n",
       "      <td>1996-04-29</td>\n",
       "      <td>11.60</td>\n",
       "      <td>0.10</td>\n",
       "    </tr>\n",
       "    <tr>\n",
       "      <th>3</th>\n",
       "      <td>1996-05-09</td>\n",
       "      <td>11.80</td>\n",
       "      <td>0.20</td>\n",
       "    </tr>\n",
       "    <tr>\n",
       "      <th>4</th>\n",
       "      <td>1996-06-21</td>\n",
       "      <td>12.40</td>\n",
       "      <td>0.60</td>\n",
       "    </tr>\n",
       "    <tr>\n",
       "      <th>...</th>\n",
       "      <td>...</td>\n",
       "      <td>...</td>\n",
       "      <td>...</td>\n",
       "    </tr>\n",
       "    <tr>\n",
       "      <th>108</th>\n",
       "      <td>2024-03-21</td>\n",
       "      <td>5.75</td>\n",
       "      <td>-0.50</td>\n",
       "    </tr>\n",
       "    <tr>\n",
       "      <th>109</th>\n",
       "      <td>2024-05-03</td>\n",
       "      <td>5.25</td>\n",
       "      <td>-0.50</td>\n",
       "    </tr>\n",
       "    <tr>\n",
       "      <th>110</th>\n",
       "      <td>2024-06-28</td>\n",
       "      <td>4.75</td>\n",
       "      <td>-0.50</td>\n",
       "    </tr>\n",
       "    <tr>\n",
       "      <th>111</th>\n",
       "      <td>2024-08-02</td>\n",
       "      <td>4.50</td>\n",
       "      <td>-0.25</td>\n",
       "    </tr>\n",
       "    <tr>\n",
       "      <th>112</th>\n",
       "      <td>2024-09-26</td>\n",
       "      <td>4.25</td>\n",
       "      <td>-0.25</td>\n",
       "    </tr>\n",
       "  </tbody>\n",
       "</table>\n",
       "<p>113 rows × 3 columns</p>\n",
       "</div>"
      ],
      "text/plain": [
       "    VALID_FROM  CNB_REPO_RATE_IN_%  rate_change\n",
       "0   1995-12-08               11.30          NaN\n",
       "1   1996-03-29               11.50         0.20\n",
       "2   1996-04-29               11.60         0.10\n",
       "3   1996-05-09               11.80         0.20\n",
       "4   1996-06-21               12.40         0.60\n",
       "..         ...                 ...          ...\n",
       "108 2024-03-21                5.75        -0.50\n",
       "109 2024-05-03                5.25        -0.50\n",
       "110 2024-06-28                4.75        -0.50\n",
       "111 2024-08-02                4.50        -0.25\n",
       "112 2024-09-26                4.25        -0.25\n",
       "\n",
       "[113 rows x 3 columns]"
      ]
     },
     "execution_count": 47,
     "metadata": {},
     "output_type": "execute_result"
    }
   ],
   "source": [
    "repo"
   ]
  },
  {
   "cell_type": "code",
   "execution_count": null,
   "id": "9e3a0c85-89b9-4344-86ef-1aaaa7433b75",
   "metadata": {},
   "outputs": [],
   "source": []
  }
 ],
 "metadata": {
  "kernelspec": {
   "display_name": "Python 3 (ipykernel)",
   "language": "python",
   "name": "python3"
  },
  "language_info": {
   "codemirror_mode": {
    "name": "ipython",
    "version": 3
   },
   "file_extension": ".py",
   "mimetype": "text/x-python",
   "name": "python",
   "nbconvert_exporter": "python",
   "pygments_lexer": "ipython3",
   "version": "3.11.5"
  }
 },
 "nbformat": 4,
 "nbformat_minor": 5
}
