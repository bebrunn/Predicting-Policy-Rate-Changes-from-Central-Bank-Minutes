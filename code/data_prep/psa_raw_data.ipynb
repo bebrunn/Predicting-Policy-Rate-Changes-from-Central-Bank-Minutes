{
 "cells": [
  {
   "cell_type": "markdown",
   "id": "0208e790-7ca9-4d78-ba4f-f6ddf2b54e81",
   "metadata": {},
   "source": [
    "# Preprosess, split, and analyze raw data for data pipeline"
   ]
  },
  {
   "cell_type": "markdown",
   "id": "e921f235-5e35-418a-8999-5f883ddd9eed",
   "metadata": {},
   "source": [
    "## 1. Import packages"
   ]
  },
  {
   "cell_type": "code",
   "execution_count": 1,
   "id": "e2803dff-0433-4a54-a977-abbfcd053e4d",
   "metadata": {},
   "outputs": [],
   "source": [
    "import pandas as pd\n",
    "from sklearn.model_selection import train_test_split\n",
    "import matplotlib.pyplot as plt\n",
    "import numpy as np"
   ]
  },
  {
   "cell_type": "markdown",
   "id": "dec83f98-f343-4808-b149-4cdfc932e41f",
   "metadata": {},
   "source": [
    "## 2. Load annotated minutes"
   ]
  },
  {
   "cell_type": "code",
   "execution_count": 2,
   "id": "b65302b6-32aa-4fb2-8480-791792540ff4",
   "metadata": {},
   "outputs": [],
   "source": [
    "import_path = \"/Users/bernhardbrunner/Desktop/masters_thesis/data/annotated_minutes.csv\""
   ]
  },
  {
   "cell_type": "code",
   "execution_count": 3,
   "id": "a0ac40a6-d44f-4eab-b40b-41d2720de7e9",
   "metadata": {},
   "outputs": [],
   "source": [
    "annotated_minutes = pd.read_csv(import_path, encoding=\"latin-1\")"
   ]
  },
  {
   "cell_type": "code",
   "execution_count": 4,
   "id": "9fc0c71a-04c9-40de-b82b-e6bfe76b23be",
   "metadata": {},
   "outputs": [],
   "source": [
    "annotated_minutes[\"stratify_column\"] = annotated_minutes[\"Country\"] + \"_\" + annotated_minutes[\"Monetary policy stance\"]"
   ]
  },
  {
   "cell_type": "code",
   "execution_count": 5,
   "id": "9c557c9d-4ed1-46be-b199-732546f46bf1",
   "metadata": {},
   "outputs": [
    {
     "data": {
      "text/html": [
       "<div>\n",
       "<style scoped>\n",
       "    .dataframe tbody tr th:only-of-type {\n",
       "        vertical-align: middle;\n",
       "    }\n",
       "\n",
       "    .dataframe tbody tr th {\n",
       "        vertical-align: top;\n",
       "    }\n",
       "\n",
       "    .dataframe thead th {\n",
       "        text-align: right;\n",
       "    }\n",
       "</style>\n",
       "<table border=\"1\" class=\"dataframe\">\n",
       "  <thead>\n",
       "    <tr style=\"text-align: right;\">\n",
       "      <th></th>\n",
       "      <th>Monetary policy stance</th>\n",
       "      <th>Sentence</th>\n",
       "      <th>Central bank</th>\n",
       "      <th>Country</th>\n",
       "      <th>stratify_column</th>\n",
       "    </tr>\n",
       "  </thead>\n",
       "  <tbody>\n",
       "    <tr>\n",
       "      <th>0</th>\n",
       "      <td>dovish</td>\n",
       "      <td>It was also said that current inflation was be...</td>\n",
       "      <td>Czech National Bank</td>\n",
       "      <td>Czechia</td>\n",
       "      <td>Czechia_dovish</td>\n",
       "    </tr>\n",
       "    <tr>\n",
       "      <th>1</th>\n",
       "      <td>dovish</td>\n",
       "      <td>According the new forecast a modest slowdown i...</td>\n",
       "      <td>Czech National Bank</td>\n",
       "      <td>Czechia</td>\n",
       "      <td>Czechia_dovish</td>\n",
       "    </tr>\n",
       "    <tr>\n",
       "      <th>2</th>\n",
       "      <td>dovish</td>\n",
       "      <td>Compared to the previous macroeconomic forecas...</td>\n",
       "      <td>Czech National Bank</td>\n",
       "      <td>Czechia</td>\n",
       "      <td>Czechia_dovish</td>\n",
       "    </tr>\n",
       "    <tr>\n",
       "      <th>3</th>\n",
       "      <td>dovish</td>\n",
       "      <td>Opinions were also expressed that a future rat...</td>\n",
       "      <td>Czech National Bank</td>\n",
       "      <td>Czechia</td>\n",
       "      <td>Czechia_dovish</td>\n",
       "    </tr>\n",
       "    <tr>\n",
       "      <th>4</th>\n",
       "      <td>dovish</td>\n",
       "      <td>Compared to the previous macroeconomic forecas...</td>\n",
       "      <td>Czech National Bank</td>\n",
       "      <td>Czechia</td>\n",
       "      <td>Czechia_dovish</td>\n",
       "    </tr>\n",
       "  </tbody>\n",
       "</table>\n",
       "</div>"
      ],
      "text/plain": [
       "  Monetary policy stance                                           Sentence  \\\n",
       "0                 dovish  It was also said that current inflation was be...   \n",
       "1                 dovish  According the new forecast a modest slowdown i...   \n",
       "2                 dovish  Compared to the previous macroeconomic forecas...   \n",
       "3                 dovish  Opinions were also expressed that a future rat...   \n",
       "4                 dovish  Compared to the previous macroeconomic forecas...   \n",
       "\n",
       "          Central bank  Country stratify_column  \n",
       "0  Czech National Bank  Czechia  Czechia_dovish  \n",
       "1  Czech National Bank  Czechia  Czechia_dovish  \n",
       "2  Czech National Bank  Czechia  Czechia_dovish  \n",
       "3  Czech National Bank  Czechia  Czechia_dovish  \n",
       "4  Czech National Bank  Czechia  Czechia_dovish  "
      ]
     },
     "execution_count": 5,
     "metadata": {},
     "output_type": "execute_result"
    }
   ],
   "source": [
    "annotated_minutes.head()"
   ]
  },
  {
   "cell_type": "markdown",
   "id": "a2c18ead-9794-426b-b29c-f849996e5b7f",
   "metadata": {},
   "source": [
    "## 3. Split data into train, dev, and test sets"
   ]
  },
  {
   "cell_type": "code",
   "execution_count": 6,
   "id": "e2fee344-81fd-4143-8b52-6a826c2eb0ac",
   "metadata": {},
   "outputs": [],
   "source": [
    "# Split data into train and test set.\n",
    "train_dev, test = train_test_split(\n",
    "        annotated_minutes, test_size=0.2, random_state=17, stratify=annotated_minutes[\"stratify_column\"]\n",
    ")"
   ]
  },
  {
   "cell_type": "code",
   "execution_count": 7,
   "id": "90612274-ca47-41ab-968b-a2aee61bf6fa",
   "metadata": {},
   "outputs": [],
   "source": [
    "# Split train_dev set into train and dev.\n",
    "train, dev = train_test_split(\n",
    "        train_dev, test_size=0.2, random_state=17, stratify=train_dev[\"stratify_column\"]\n",
    ")"
   ]
  },
  {
   "cell_type": "code",
   "execution_count": 8,
   "id": "9d91a552-ccfd-4569-8eff-1094a5f456a6",
   "metadata": {},
   "outputs": [
    {
     "name": "stdout",
     "output_type": "stream",
     "text": [
      "Train shape: (1278, 5)\n",
      "Dev shape: (320, 5)\n",
      "Test shape: (400, 5)\n"
     ]
    }
   ],
   "source": [
    "print(f\"Train shape: {train.shape}\")\n",
    "print(f\"Dev shape: {dev.shape}\")\n",
    "print(f\"Test shape: {test.shape}\")"
   ]
  },
  {
   "cell_type": "markdown",
   "id": "06f49b1d-ae00-4990-8bfc-610b6d6efd50",
   "metadata": {},
   "source": [
    "## 4. Plot the distribution of labels and central banks for train, dev, and test sets"
   ]
  },
  {
   "cell_type": "code",
   "execution_count": 9,
   "id": "bf8e8468-7e86-4e3d-afc7-bcf7527c3320",
   "metadata": {},
   "outputs": [],
   "source": [
    "def combined_barplot(df1, df2, df3, column, title):\n",
    "    # Count values in df1, df2, df3\n",
    "    labels_count1 = df1[column].value_counts()\n",
    "    labels_count2 = df2[column].value_counts()\n",
    "    labels_count3 = df3[column].value_counts()\n",
    "\n",
    "    # Prepare x locations for the bar plots\n",
    "    x = np.arange(len(labels_count1))\n",
    "    bar_width = 0.25\n",
    "\n",
    "    # Create the bar plot\n",
    "    plt.figure(figsize=(10, 6))\n",
    "\n",
    "    plt.bar(x - bar_width, labels_count1, width=bar_width, label='Train set', color='orange', alpha=0.7)\n",
    "    plt.bar(x, labels_count2, width=bar_width, label='Dev set', color='blue', alpha=0.7)\n",
    "    plt.bar(x + bar_width, labels_count3, width=bar_width, label='Test set', color='green', alpha=0.7)\n",
    "\n",
    "    plt.title(title)\n",
    "    plt.xlabel(\"\")\n",
    "    plt.ylabel(\"Count\")\n",
    "    plt.xticks(x, labels_count1.index, rotation=0)  # Set x-ticks to the labels of the first dataset\n",
    "    plt.legend()\n",
    "    plt.tight_layout()\n",
    "    plt.show()"
   ]
  },
  {
   "cell_type": "markdown",
   "id": "51b4bd12-3885-44bb-84bb-7a5dd815d735",
   "metadata": {},
   "source": [
    "### Distribution of labels"
   ]
  },
  {
   "cell_type": "code",
   "execution_count": 10,
   "id": "3e75da19-8409-431b-af75-7615e7da6ea4",
   "metadata": {},
   "outputs": [
    {
     "data": {
      "image/png": "[encoded data removed]",
      "text/plain": [
       "<Figure size 1000x600 with 1 Axes>"
      ]
     },
     "metadata": {},
     "output_type": "display_data"
    }
   ],
   "source": [
    "combined_barplot(train, dev, test, \"Monetary policy stance\", \"Distribution of Labels\")"
   ]
  },
  {
   "cell_type": "markdown",
   "id": "712e627a-887c-417e-af3b-75af094b5164",
   "metadata": {},
   "source": [
    "### Distribution of central banks"
   ]
  },
  {
   "cell_type": "code",
   "execution_count": 11,
   "id": "50efde6a-dda5-4dc3-9ec9-f709f6ffe234",
   "metadata": {},
   "outputs": [
    {
     "data": {
      "image/png": "[encoded data removed]",
      "text/plain": [
       "<Figure size 1000x600 with 1 Axes>"
      ]
     },
     "metadata": {},
     "output_type": "display_data"
    }
   ],
   "source": [
    "combined_barplot(train, dev, test, \"Central bank\", \"Distribution of Central Banks\")"
   ]
  },
  {
   "cell_type": "markdown",
   "id": "ac3aeba3-f493-4050-b992-cddb3902afd5",
   "metadata": {},
   "source": [
    "## 5. Export annotated sentences of train, dev, and test sets as TSV"
   ]
  },
  {
   "cell_type": "code",
   "execution_count": 12,
   "id": "7d64116e-02ae-4544-859c-a56db307365c",
   "metadata": {},
   "outputs": [],
   "source": [
    "# Drop all columns except \n",
    "train_final = train.drop(labels=[\"Central bank\", \"Country\", \"stratify_column\"], axis=1)\n",
    "dev_final = dev.drop(labels=[\"Central bank\", \"Country\", \"stratify_column\"], axis=1)\n",
    "test_final = test.drop(labels=[\"Central bank\", \"Country\", \"stratify_column\"], axis=1)"
   ]
  },
  {
   "cell_type": "code",
   "execution_count": 13,
   "id": "1b0df254-51ff-4d73-9e5d-59f41719605b",
   "metadata": {},
   "outputs": [],
   "source": [
    "export_path = \"/Users/bernhardbrunner/Desktop/masters_thesis/data/raw\" "
   ]
  },
  {
   "cell_type": "code",
   "execution_count": 14,
   "id": "0f7c2d47-2919-44f2-8901-e778039a47a9",
   "metadata": {},
   "outputs": [],
   "source": [
    "train_final.to_csv(export_path + \"/train.tsv\", sep=\"\\t\", index=False, header=False)\n",
    "dev_final.to_csv(export_path + \"/dev.tsv\", sep=\"\\t\", index=False, header=False)\n",
    "test_final.to_csv(export_path + \"/test.tsv\", sep=\"\\t\", index=False, header=False)"
   ]
  }
 ],
 "metadata": {
  "kernelspec": {
   "display_name": "Python 3 (ipykernel)",
   "language": "python",
   "name": "python3"
  },
  "language_info": {
   "codemirror_mode": {
    "name": "ipython",
    "version": 3
   },
   "file_extension": ".py",
   "mimetype": "text/x-python",
   "name": "python",
   "nbconvert_exporter": "python",
   "pygments_lexer": "ipython3",
   "version": "3.11.5"
  }
 },
 "nbformat": 4,
 "nbformat_minor": 5
}
