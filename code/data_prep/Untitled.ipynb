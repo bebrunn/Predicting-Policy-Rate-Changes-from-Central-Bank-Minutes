{
 "cells": [
  {
   "cell_type": "markdown",
   "id": "55560abb-3487-42a5-816a-5f52ae1966bc",
   "metadata": {},
   "source": [
    "# Descriptive analysis of CNB minutes"
   ]
  },
  {
   "cell_type": "code",
   "execution_count": null,
   "id": "e4c8e10c-648c-475e-9001-5e4d74094f94",
   "metadata": {},
   "outputs": [],
   "source": [
    "import os\n",
    "import re"
   ]
  },
  {
   "cell_type": "code",
   "execution_count": 4,
   "id": "8fb9f11f-8c0c-4063-9680-6623f93aa170",
   "metadata": {},
   "outputs": [
    {
     "name": "stdout",
     "output_type": "stream",
     "text": [
      "Number of documents: 265\n",
      "Average words per document: 1007.37\n",
      "Average sentences per document: 47.34\n",
      "Average words per sentence: 21.28\n"
     ]
    }
   ],
   "source": [
    "def analyze_texts(directory_path):\n",
    "    # Initialize counters\n",
    "    doc_count = 0\n",
    "    total_words = 0\n",
    "    total_sentences = 0\n",
    "    \n",
    "    # Define a regex pattern for sentence endings\n",
    "    sentence_pattern = re.compile(r'[.!?]')\n",
    "    \n",
    "    # Loop through all txt files in the directory\n",
    "    for filename in os.listdir(directory_path):\n",
    "        if filename.endswith(\".txt\"):\n",
    "            doc_count += 1  # Count each document\n",
    "            with open(os.path.join(directory_path, filename), 'r', encoding='utf-8') as file:\n",
    "                text = file.read()\n",
    "                \n",
    "                # Count words and sentences\n",
    "                words = text.split()\n",
    "                word_count = len(words)\n",
    "                sentences = sentence_pattern.split(text)\n",
    "                sentence_count = len([s for s in sentences if s.strip() != \"\"])\n",
    "                \n",
    "                # Accumulate totals\n",
    "                total_words += word_count\n",
    "                total_sentences += sentence_count\n",
    "    \n",
    "    # Calculate averages\n",
    "    avg_words_per_doc = total_words / doc_count if doc_count else 0\n",
    "    avg_sentences_per_doc = total_sentences / doc_count if doc_count else 0\n",
    "    avg_words_per_sentence = total_words / total_sentences if total_sentences else 0\n",
    "    \n",
    "    # Print or return the results\n",
    "    print(f\"Number of documents: {doc_count}\")\n",
    "    print(f\"Average words per document: {avg_words_per_doc:.2f}\")\n",
    "    print(f\"Average sentences per document: {avg_sentences_per_doc:.2f}\")\n",
    "    print(f\"Average words per sentence: {avg_words_per_sentence:.2f}\")\n",
    "\n",
    "# Call the function with the path to your directory\n",
    "directory_path = \"/Users/bernhardbrunner/Desktop/masters_thesis/data/cnb_minutes\"\n",
    "analyze_texts(directory_path)"
   ]
  }
 ],
 "metadata": {
  "kernelspec": {
   "display_name": "Python 3 (ipykernel)",
   "language": "python",
   "name": "python3"
  },
  "language_info": {
   "codemirror_mode": {
    "name": "ipython",
    "version": 3
   },
   "file_extension": ".py",
   "mimetype": "text/x-python",
   "name": "python",
   "nbconvert_exporter": "python",
   "pygments_lexer": "ipython3",
   "version": "3.11.5"
  }
 },
 "nbformat": 4,
 "nbformat_minor": 5
}
